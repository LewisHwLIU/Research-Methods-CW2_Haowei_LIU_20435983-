{
 "cells": [
  {
   "cell_type": "code",
   "execution_count": 54,
   "id": "c3430f12-8bf3-4ff7-bd68-55fbe66c208f",
   "metadata": {},
   "outputs": [
    {
     "name": "stderr",
     "output_type": "stream",
     "text": [
      "/var/folders/7c/wcdx5cvj5q93j42gwr1mndg40000gn/T/ipykernel_16911/126829720.py:7: DtypeWarning:\n",
      "\n",
      "Columns (7) have mixed types. Specify dtype option on import or set low_memory=False.\n",
      "\n",
      "/var/folders/7c/wcdx5cvj5q93j42gwr1mndg40000gn/T/ipykernel_16911/126829720.py:7: DtypeWarning:\n",
      "\n",
      "Columns (6,7) have mixed types. Specify dtype option on import or set low_memory=False.\n",
      "\n",
      "/var/folders/7c/wcdx5cvj5q93j42gwr1mndg40000gn/T/ipykernel_16911/126829720.py:7: DtypeWarning:\n",
      "\n",
      "Columns (6) have mixed types. Specify dtype option on import or set low_memory=False.\n",
      "\n"
     ]
    },
    {
     "data": {
      "application/vnd.plotly.v1+json": {
       "config": {
        "plotlyServerURL": "https://plot.ly"
       },
       "data": [
        {
         "customdata": [
          [
           43672
          ],
          [
           520960
          ],
          [
           480932
          ],
          [
           289860
          ],
          [
           52094
          ]
         ],
         "geo": "geo",
         "hovertemplate": "<b>%{hovertext}</b><br><br>Year=1960<br>Total=%{customdata[0]}<br>Country=%{location}<br>Change=%{marker.color}<extra></extra>",
         "hovertext": [
          "Denmark",
          "France",
          "Italy",
          "Spain",
          "Switzerland"
         ],
         "legendgroup": "",
         "locationmode": "country names",
         "locations": [
          "Denmark",
          "France",
          "Italy",
          "Spain",
          "Switzerland"
         ],
         "marker": {
          "color": [
           0.03588794800635697,
           0.02331812315724746,
           0.05759774816378593,
           -0.017270489635672015,
           0.04027797192323823
          ],
          "coloraxis": "coloraxis",
          "line": {
           "color": "gray",
           "width": 1
          },
          "size": [
           43672,
           520960,
           480932,
           289860,
           52094
          ],
          "sizemode": "area",
          "sizeref": 131.52359099999998,
          "symbol": "circle"
         },
         "mode": "markers",
         "name": "",
         "showlegend": false,
         "type": "scattergeo"
        },
        {
         "lat": [
          46.8182
         ],
         "lon": [
          8.2275
         ],
         "marker": {
          "line": {
           "color": "gray",
           "width": 1
          }
         },
         "mode": "text",
         "showlegend": false,
         "text": [
          "Switzerland"
         ],
         "textfont": {
          "color": "black",
          "size": 12
         },
         "type": "scattergeo"
        },
        {
         "lat": [
          56.2639
         ],
         "lon": [
          9.5018
         ],
         "marker": {
          "line": {
           "color": "gray",
           "width": 1
          }
         },
         "mode": "text",
         "showlegend": false,
         "text": [
          "Denmark"
         ],
         "textfont": {
          "color": "black",
          "size": 12
         },
         "type": "scattergeo"
        },
        {
         "lat": [
          40.4637
         ],
         "lon": [
          -3.7492
         ],
         "marker": {
          "line": {
           "color": "gray",
           "width": 1
          }
         },
         "mode": "text",
         "showlegend": false,
         "text": [
          "Spain"
         ],
         "textfont": {
          "color": "black",
          "size": 12
         },
         "type": "scattergeo"
        },
        {
         "lat": [
          46.603354
         ],
         "lon": [
          1.888334
         ],
         "marker": {
          "line": {
           "color": "gray",
           "width": 1
          }
         },
         "mode": "text",
         "showlegend": false,
         "text": [
          "France"
         ],
         "textfont": {
          "color": "black",
          "size": 12
         },
         "type": "scattergeo"
        },
        {
         "lat": [
          41.8719
         ],
         "lon": [
          12.5674
         ],
         "marker": {
          "line": {
           "color": "gray",
           "width": 1
          }
         },
         "mode": "text",
         "showlegend": false,
         "text": [
          "Italy"
         ],
         "textfont": {
          "color": "black",
          "size": 12
         },
         "type": "scattergeo"
        }
       ],
       "frames": [
        {
         "data": [
          {
           "customdata": [
            [
             35184
            ],
            [
             707919
            ],
            [
             681459
            ],
            [
             455036
            ],
            [
             56498
            ]
           ],
           "geo": "geo",
           "hovertemplate": "<b>%{hovertext}</b><br><br>Year=1910<br>Total=%{customdata[0]}<br>Country=%{location}<br>Change=%{marker.color}<extra></extra>",
           "hovertext": [
            "Denmark",
            "France",
            "Italy",
            "Spain",
            "Switzerland"
           ],
           "legendgroup": "",
           "locationmode": "country names",
           "locations": [
            "Denmark",
            "France",
            "Italy",
            "Spain",
            "Switzerland"
           ],
           "marker": {
            "color": [
             null,
             null,
             null,
             null,
             null
            ],
            "coloraxis": "coloraxis",
            "size": [
             35184,
             707919,
             681459,
             455036,
             56498
            ],
            "sizemode": "area",
            "sizeref": 131.52359099999998,
            "symbol": "circle"
           },
           "mode": "markers",
           "name": "",
           "showlegend": false,
           "type": "scattergeo"
          }
         ],
         "name": "1910"
        },
        {
         "data": [
          {
           "customdata": [
            [
             37192
            ],
            [
             780114
            ],
            [
             741469
            ],
            [
             465413
            ],
            [
             59619
            ]
           ],
           "geo": "geo",
           "hovertemplate": "<b>%{hovertext}</b><br><br>Year=1911<br>Total=%{customdata[0]}<br>Country=%{location}<br>Change=%{marker.color}<extra></extra>",
           "hovertext": [
            "Denmark",
            "France",
            "Italy",
            "Spain",
            "Switzerland"
           ],
           "legendgroup": "",
           "locationmode": "country names",
           "locations": [
            "Denmark",
            "France",
            "Italy",
            "Spain",
            "Switzerland"
           ],
           "marker": {
            "color": [
             0.057071396089131365,
             0.1019820064159882,
             0.08806105723161628,
             0.022804789071633857,
             0.05524089348295513
            ],
            "coloraxis": "coloraxis",
            "size": [
             37192,
             780114,
             741469,
             465413,
             59619
            ],
            "sizemode": "area",
            "sizeref": 131.52359099999998,
            "symbol": "circle"
           },
           "mode": "markers",
           "name": "",
           "showlegend": false,
           "type": "scattergeo"
          }
         ],
         "name": "1911"
        },
        {
         "data": [
          {
           "customdata": [
            [
             36433
            ],
            [
             697139
            ],
            [
             635179
            ],
            [
             425041
            ],
            [
             54102
            ]
           ],
           "geo": "geo",
           "hovertemplate": "<b>%{hovertext}</b><br><br>Year=1912<br>Total=%{customdata[0]}<br>Country=%{location}<br>Change=%{marker.color}<extra></extra>",
           "hovertext": [
            "Denmark",
            "France",
            "Italy",
            "Spain",
            "Switzerland"
           ],
           "legendgroup": "",
           "locationmode": "country names",
           "locations": [
            "Denmark",
            "France",
            "Italy",
            "Spain",
            "Switzerland"
           ],
           "marker": {
            "color": [
             -0.020407614540761454,
             -0.10636265981638582,
             -0.14335056489212628,
             -0.08674446137086844,
             -0.09253761384793435
            ],
            "coloraxis": "coloraxis",
            "size": [
             36433,
             697139,
             635179,
             425041,
             54102
            ],
            "sizemode": "area",
            "sizeref": 131.52359099999998,
            "symbol": "circle"
           },
           "mode": "markers",
           "name": "",
           "showlegend": false,
           "type": "scattergeo"
          }
         ],
         "name": "1912"
        },
        {
         "data": [
          {
           "customdata": [
            [
             35312
            ],
            [
             706983
            ],
            [
             663238
            ],
            [
             448205
            ],
            [
             55427
            ]
           ],
           "geo": "geo",
           "hovertemplate": "<b>%{hovertext}</b><br><br>Year=1913<br>Total=%{customdata[0]}<br>Country=%{location}<br>Change=%{marker.color}<extra></extra>",
           "hovertext": [
            "Denmark",
            "France",
            "Italy",
            "Spain",
            "Switzerland"
           ],
           "legendgroup": "",
           "locationmode": "country names",
           "locations": [
            "Denmark",
            "France",
            "Italy",
            "Spain",
            "Switzerland"
           ],
           "marker": {
            "color": [
             -0.030768808497790512,
             0.01412056992938271,
             0.044174949108833905,
             0.054498271931413766,
             0.024490776681083792
            ],
            "coloraxis": "coloraxis",
            "size": [
             35312,
             706983,
             663238,
             448205,
             55427
            ],
            "sizemode": "area",
            "sizeref": 131.52359099999998,
            "symbol": "circle"
           },
           "mode": "markers",
           "name": "",
           "showlegend": false,
           "type": "scattergeo"
          }
         ],
         "name": "1913"
        },
        {
         "data": [
          {
           "customdata": [
            [
             35861
            ],
            [
             627395
            ],
            [
             642983
            ],
            [
             449179
            ],
            [
             53629
            ]
           ],
           "geo": "geo",
           "hovertemplate": "<b>%{hovertext}</b><br><br>Year=1914<br>Total=%{customdata[0]}<br>Country=%{location}<br>Change=%{marker.color}<extra></extra>",
           "hovertext": [
            "Denmark",
            "France",
            "Italy",
            "Spain",
            "Switzerland"
           ],
           "legendgroup": "",
           "locationmode": "country names",
           "locations": [
            "Denmark",
            "France",
            "Italy",
            "Spain",
            "Switzerland"
           ],
           "marker": {
            "color": [
             0.01554712279111925,
             -0.1125741354459725,
             -0.030539564982706047,
             0.0021731127497461866,
             -0.03243906399408225
            ],
            "coloraxis": "coloraxis",
            "size": [
             35861,
             627395,
             642983,
             449179,
             53629
            ],
            "sizemode": "area",
            "sizeref": 131.52359099999998,
            "symbol": "circle"
           },
           "mode": "markers",
           "name": "",
           "showlegend": false,
           "type": "scattergeo"
          }
         ],
         "name": "1914"
        },
        {
         "data": [
          {
           "customdata": [
            [
             37124
            ],
            [
             619529
            ],
            [
             825556.04
            ],
            [
             451275
            ],
            [
             51524
            ]
           ],
           "geo": "geo",
           "hovertemplate": "<b>%{hovertext}</b><br><br>Year=1915<br>Total=%{customdata[0]}<br>Country=%{location}<br>Change=%{marker.color}<extra></extra>",
           "hovertext": [
            "Denmark",
            "France",
            "Italy",
            "Spain",
            "Switzerland"
           ],
           "legendgroup": "",
           "locationmode": "country names",
           "locations": [
            "Denmark",
            "France",
            "Italy",
            "Spain",
            "Switzerland"
           ],
           "marker": {
            "color": [
             0.03521931903739439,
             -0.012537556085082002,
             0.283946916170412,
             0.0046662911667731954,
             -0.03925115142926405
            ],
            "coloraxis": "coloraxis",
            "size": [
             37124,
             619529,
             825556.04,
             451275,
             51524
            ],
            "sizemode": "area",
            "sizeref": 131.52359099999998,
            "symbol": "circle"
           },
           "mode": "markers",
           "name": "",
           "showlegend": false,
           "type": "scattergeo"
          }
         ],
         "name": "1915"
        },
        {
         "data": [
          {
           "customdata": [
            [
             39201
            ],
            [
             577047
            ],
            [
             868639.03
            ],
            [
             440328
            ],
            [
             50623
            ]
           ],
           "geo": "geo",
           "hovertemplate": "<b>%{hovertext}</b><br><br>Year=1916<br>Total=%{customdata[0]}<br>Country=%{location}<br>Change=%{marker.color}<extra></extra>",
           "hovertext": [
            "Denmark",
            "France",
            "Italy",
            "Spain",
            "Switzerland"
           ],
           "legendgroup": "",
           "locationmode": "country names",
           "locations": [
            "Denmark",
            "France",
            "Italy",
            "Spain",
            "Switzerland"
           ],
           "marker": {
            "color": [
             0.05594763495313004,
             -0.06857144701862217,
             0.05218663290259484,
             -0.0242579358484295,
             -0.01748699635121498
            ],
            "coloraxis": "coloraxis",
            "size": [
             39201,
             577047,
             868639.03,
             440328,
             50623
            ],
            "sizemode": "area",
            "sizeref": 131.52359099999998,
            "symbol": "circle"
           },
           "mode": "markers",
           "name": "",
           "showlegend": false,
           "type": "scattergeo"
          }
         ],
         "name": "1916"
        },
        {
         "data": [
          {
           "customdata": [
            [
             39140
            ],
            [
             584939
            ],
            [
             890717.97
            ],
            [
             464334
            ],
            [
             53314
            ]
           ],
           "geo": "geo",
           "hovertemplate": "<b>%{hovertext}</b><br><br>Year=1917<br>Total=%{customdata[0]}<br>Country=%{location}<br>Change=%{marker.color}<extra></extra>",
           "hovertext": [
            "Denmark",
            "France",
            "Italy",
            "Spain",
            "Switzerland"
           ],
           "legendgroup": "",
           "locationmode": "country names",
           "locations": [
            "Denmark",
            "France",
            "Italy",
            "Spain",
            "Switzerland"
           ],
           "marker": {
            "color": [
             -0.001556082752991017,
             0.013676528948248556,
             0.025417853950219005,
             0.054518449882814624,
             0.05315765561108576
            ],
            "coloraxis": "coloraxis",
            "size": [
             39140,
             584939,
             890717.97,
             464334,
             53314
            ],
            "sizemode": "area",
            "sizeref": 131.52359099999998,
            "symbol": "circle"
           },
           "mode": "markers",
           "name": "",
           "showlegend": false,
           "type": "scattergeo"
          }
         ],
         "name": "1917"
        },
        {
         "data": [
          {
           "customdata": [
            [
             38984
            ],
            [
             724803
            ],
            [
             1315235.91
            ],
            [
             693889
            ],
            [
             75034
            ]
           ],
           "geo": "geo",
           "hovertemplate": "<b>%{hovertext}</b><br><br>Year=1918<br>Total=%{customdata[0]}<br>Country=%{location}<br>Change=%{marker.color}<extra></extra>",
           "hovertext": [
            "Denmark",
            "France",
            "Italy",
            "Spain",
            "Switzerland"
           ],
           "legendgroup": "",
           "locationmode": "country names",
           "locations": [
            "Denmark",
            "France",
            "Italy",
            "Spain",
            "Switzerland"
           ],
           "marker": {
            "color": [
             -0.003985692386305528,
             0.2391086933851223,
             0.47660197087973866,
             0.49437473887331107,
             0.40739768165960166
            ],
            "coloraxis": "coloraxis",
            "size": [
             38984,
             724803,
             1315235.91,
             693889,
             75034
            ],
            "sizemode": "area",
            "sizeref": 131.52359099999998,
            "symbol": "circle"
           },
           "mode": "markers",
           "name": "",
           "showlegend": false,
           "type": "scattergeo"
          }
         ],
         "name": "1918"
        },
        {
         "data": [
          {
           "customdata": [
            [
             39517
            ],
            [
             618233
            ],
            [
             732394.02
            ],
            [
             481110
            ],
            [
             54932
            ]
           ],
           "geo": "geo",
           "hovertemplate": "<b>%{hovertext}</b><br><br>Year=1919<br>Total=%{customdata[0]}<br>Country=%{location}<br>Change=%{marker.color}<extra></extra>",
           "hovertext": [
            "Denmark",
            "France",
            "Italy",
            "Spain",
            "Switzerland"
           ],
           "legendgroup": "",
           "locationmode": "country names",
           "locations": [
            "Denmark",
            "France",
            "Italy",
            "Spain",
            "Switzerland"
           ],
           "marker": {
            "color": [
             0.0136722758054586,
             -0.1470330558786318,
             -0.4431462717589576,
             -0.3066470285593229,
             -0.2679052163019431
            ],
            "coloraxis": "coloraxis",
            "size": [
             39517,
             618233,
             732394.02,
             481110,
             54932
            ],
            "sizemode": "area",
            "sizeref": 131.52359099999998,
            "symbol": "circle"
           },
           "mode": "markers",
           "name": "",
           "showlegend": false,
           "type": "scattergeo"
          }
         ],
         "name": "1919"
        },
        {
         "data": [
          {
           "customdata": [
            [
             39776
            ],
            [
             675488
            ],
            [
             687977.9
            ],
            [
             493268
            ],
            [
             55992
            ]
           ],
           "geo": "geo",
           "hovertemplate": "<b>%{hovertext}</b><br><br>Year=1920<br>Total=%{customdata[0]}<br>Country=%{location}<br>Change=%{marker.color}<extra></extra>",
           "hovertext": [
            "Denmark",
            "France",
            "Italy",
            "Spain",
            "Switzerland"
           ],
           "legendgroup": "",
           "locationmode": "country names",
           "locations": [
            "Denmark",
            "France",
            "Italy",
            "Spain",
            "Switzerland"
           ],
           "marker": {
            "color": [
             0.006554141255662227,
             0.0926107147305304,
             -0.06064511558955654,
             0.025270728107917195,
             0.01929658486856467
            ],
            "coloraxis": "coloraxis",
            "size": [
             39776,
             675488,
             687977.9,
             493268,
             55992
            ],
            "sizemode": "area",
            "sizeref": 131.52359099999998,
            "symbol": "circle"
           },
           "mode": "markers",
           "name": "",
           "showlegend": false,
           "type": "scattergeo"
          }
         ],
         "name": "1920"
        },
        {
         "data": [
          {
           "customdata": [
            [
             36096
            ],
            [
             697843
            ],
            [
             635268
            ],
            [
             454099
            ],
            [
             49518
            ]
           ],
           "geo": "geo",
           "hovertemplate": "<b>%{hovertext}</b><br><br>Year=1921<br>Total=%{customdata[0]}<br>Country=%{location}<br>Change=%{marker.color}<extra></extra>",
           "hovertext": [
            "Denmark",
            "France",
            "Italy",
            "Spain",
            "Switzerland"
           ],
           "legendgroup": "",
           "locationmode": "country names",
           "locations": [
            "Denmark",
            "France",
            "Italy",
            "Spain",
            "Switzerland"
           ],
           "marker": {
            "color": [
             -0.09251810136765892,
             0.033094592353972274,
             -0.0766156878004366,
             -0.07940713770202001,
             -0.11562366052293183
            ],
            "coloraxis": "coloraxis",
            "size": [
             36096,
             697843,
             635268,
             454099,
             49518
            ],
            "sizemode": "area",
            "sizeref": 131.52359099999998,
            "symbol": "circle"
           },
           "mode": "markers",
           "name": "",
           "showlegend": false,
           "type": "scattergeo"
          }
         ],
         "name": "1921"
        },
        {
         "data": [
          {
           "customdata": [
            [
             39335
            ],
            [
             692170
            ],
            [
             653024
            ],
            [
             440319
            ],
            [
             50292
            ]
           ],
           "geo": "geo",
           "hovertemplate": "<b>%{hovertext}</b><br><br>Year=1922<br>Total=%{customdata[0]}<br>Country=%{location}<br>Change=%{marker.color}<extra></extra>",
           "hovertext": [
            "Denmark",
            "France",
            "Italy",
            "Spain",
            "Switzerland"
           ],
           "legendgroup": "",
           "locationmode": "country names",
           "locations": [
            "Denmark",
            "France",
            "Italy",
            "Spain",
            "Switzerland"
           ],
           "marker": {
            "color": [
             0.08973293439716312,
             -0.008129335681521521,
             0.027950408331601784,
             -0.030345805650309754,
             0.015630679752817178
            ],
            "coloraxis": "coloraxis",
            "size": [
             39335,
             692170,
             653024,
             440319,
             50292
            ],
            "sizemode": "area",
            "sizeref": 131.52359099999998,
            "symbol": "circle"
           },
           "mode": "markers",
           "name": "",
           "showlegend": false,
           "type": "scattergeo"
          }
         ],
         "name": "1922"
        },
        {
         "data": [
          {
           "customdata": [
            [
             37810
            ],
            [
             670281
            ],
            [
             622098
            ],
            [
             448684
            ],
            [
             45983
            ]
           ],
           "geo": "geo",
           "hovertemplate": "<b>%{hovertext}</b><br><br>Year=1923<br>Total=%{customdata[0]}<br>Country=%{location}<br>Change=%{marker.color}<extra></extra>",
           "hovertext": [
            "Denmark",
            "France",
            "Italy",
            "Spain",
            "Switzerland"
           ],
           "legendgroup": "",
           "locationmode": "country names",
           "locations": [
            "Denmark",
            "France",
            "Italy",
            "Spain",
            "Switzerland"
           ],
           "marker": {
            "color": [
             -0.03876954366340413,
             -0.031623734053772945,
             -0.04735813691380408,
             0.018997590383335705,
             -0.08567963095522146
            ],
            "coloraxis": "coloraxis",
            "size": [
             37810,
             670281,
             622098,
             448684,
             45983
            ],
            "sizemode": "area",
            "sizeref": 131.52359099999998,
            "symbol": "circle"
           },
           "mode": "markers",
           "name": "",
           "showlegend": false,
           "type": "scattergeo"
          }
         ],
         "name": "1923"
        },
        {
         "data": [
          {
           "customdata": [
            [
             38017
            ],
            [
             683202
            ],
            [
             659693
            ],
            [
             429484
            ],
            [
             48988
            ]
           ],
           "geo": "geo",
           "hovertemplate": "<b>%{hovertext}</b><br><br>Year=1924<br>Total=%{customdata[0]}<br>Country=%{location}<br>Change=%{marker.color}<extra></extra>",
           "hovertext": [
            "Denmark",
            "France",
            "Italy",
            "Spain",
            "Switzerland"
           ],
           "legendgroup": "",
           "locationmode": "country names",
           "locations": [
            "Denmark",
            "France",
            "Italy",
            "Spain",
            "Switzerland"
           ],
           "marker": {
            "color": [
             0.005474742131711174,
             0.019276989799800415,
             0.06043260065134426,
             -0.04279180893457313,
             0.06535023813148344
            ],
            "coloraxis": "coloraxis",
            "size": [
             38017,
             683202,
             659693,
             429484,
             48988
            ],
            "sizemode": "area",
            "sizeref": 131.52359099999998,
            "symbol": "circle"
           },
           "mode": "markers",
           "name": "",
           "showlegend": false,
           "type": "scattergeo"
          }
         ],
         "name": "1924"
        },
        {
         "data": [
          {
           "customdata": [
            [
             37003
            ],
            [
             712163
            ],
            [
             667430
            ],
            [
             431421
            ],
            [
             47877
            ]
           ],
           "geo": "geo",
           "hovertemplate": "<b>%{hovertext}</b><br><br>Year=1925<br>Total=%{customdata[0]}<br>Country=%{location}<br>Change=%{marker.color}<extra></extra>",
           "hovertext": [
            "Denmark",
            "France",
            "Italy",
            "Spain",
            "Switzerland"
           ],
           "legendgroup": "",
           "locationmode": "country names",
           "locations": [
            "Denmark",
            "France",
            "Italy",
            "Spain",
            "Switzerland"
           ],
           "marker": {
            "color": [
             -0.02667227819133544,
             0.042390098389641695,
             0.011728182654659136,
             0.004510063238677198,
             -0.022679023434310497
            ],
            "coloraxis": "coloraxis",
            "size": [
             37003,
             712163,
             667430,
             431421,
             47877
            ],
            "sizemode": "area",
            "sizeref": 131.52359099999998,
            "symbol": "circle"
           },
           "mode": "markers",
           "name": "",
           "showlegend": false,
           "type": "scattergeo"
          }
         ],
         "name": "1925"
        },
        {
         "data": [
          {
           "customdata": [
            [
             38039
            ],
            [
             716941
            ],
            [
             679817
            ],
            [
             419880
            ],
            [
             46452
            ]
           ],
           "geo": "geo",
           "hovertemplate": "<b>%{hovertext}</b><br><br>Year=1926<br>Total=%{customdata[0]}<br>Country=%{location}<br>Change=%{marker.color}<extra></extra>",
           "hovertext": [
            "Denmark",
            "France",
            "Italy",
            "Spain",
            "Switzerland"
           ],
           "legendgroup": "",
           "locationmode": "country names",
           "locations": [
            "Denmark",
            "France",
            "Italy",
            "Spain",
            "Switzerland"
           ],
           "marker": {
            "color": [
             0.027997729913790792,
             0.00670913821695307,
             0.018559249659140242,
             -0.026751131725159416,
             -0.029763769659753136
            ],
            "coloraxis": "coloraxis",
            "size": [
             38039,
             716941,
             679817,
             419880,
             46452
            ],
            "sizemode": "area",
            "sizeref": 131.52359099999998,
            "symbol": "circle"
           },
           "mode": "markers",
           "name": "",
           "showlegend": false,
           "type": "scattergeo"
          }
         ],
         "name": "1926"
        },
        {
         "data": [
          {
           "customdata": [
            [
             40137
            ],
            [
             679791
            ],
            [
             639540
            ],
            [
             419226
            ],
            [
             49202
            ]
           ],
           "geo": "geo",
           "hovertemplate": "<b>%{hovertext}</b><br><br>Year=1927<br>Total=%{customdata[0]}<br>Country=%{location}<br>Change=%{marker.color}<extra></extra>",
           "hovertext": [
            "Denmark",
            "France",
            "Italy",
            "Spain",
            "Switzerland"
           ],
           "legendgroup": "",
           "locationmode": "country names",
           "locations": [
            "Denmark",
            "France",
            "Italy",
            "Spain",
            "Switzerland"
           ],
           "marker": {
            "color": [
             0.05515392097584049,
             -0.0518173740935447,
             -0.05924682671954362,
             -0.0015575878822520206,
             0.059200895548092713
            ],
            "coloraxis": "coloraxis",
            "size": [
             40137,
             679791,
             639540,
             419226,
             49202
            ],
            "sizemode": "area",
            "sizeref": 131.52359099999998,
            "symbol": "circle"
           },
           "mode": "markers",
           "name": "",
           "showlegend": false,
           "type": "scattergeo"
          }
         ],
         "name": "1927"
        },
        {
         "data": [
          {
           "customdata": [
            [
             38431
            ],
            [
             678258
            ],
            [
             645467
            ],
            [
             412431
            ],
            [
             48063
            ]
           ],
           "geo": "geo",
           "hovertemplate": "<b>%{hovertext}</b><br><br>Year=1928<br>Total=%{customdata[0]}<br>Country=%{location}<br>Change=%{marker.color}<extra></extra>",
           "hovertext": [
            "Denmark",
            "France",
            "Italy",
            "Spain",
            "Switzerland"
           ],
           "legendgroup": "",
           "locationmode": "country names",
           "locations": [
            "Denmark",
            "France",
            "Italy",
            "Spain",
            "Switzerland"
           ],
           "marker": {
            "color": [
             -0.04250442235343943,
             -0.0022551048778227667,
             0.009267598586484072,
             -0.016208441270341045,
             -0.023149465468883412
            ],
            "coloraxis": "coloraxis",
            "size": [
             38431,
             678258,
             645467,
             412431,
             48063
            ],
            "sizemode": "area",
            "sizeref": 131.52359099999998,
            "symbol": "circle"
           },
           "mode": "markers",
           "name": "",
           "showlegend": false,
           "type": "scattergeo"
          }
         ],
         "name": "1928"
        },
        {
         "data": [
          {
           "customdata": [
            [
             39445
            ],
            [
             742720
            ],
            [
             666715
            ],
            [
             406662
            ],
            [
             50438
            ]
           ],
           "geo": "geo",
           "hovertemplate": "<b>%{hovertext}</b><br><br>Year=1929<br>Total=%{customdata[0]}<br>Country=%{location}<br>Change=%{marker.color}<extra></extra>",
           "hovertext": [
            "Denmark",
            "France",
            "Italy",
            "Spain",
            "Switzerland"
           ],
           "legendgroup": "",
           "locationmode": "country names",
           "locations": [
            "Denmark",
            "France",
            "Italy",
            "Spain",
            "Switzerland"
           ],
           "marker": {
            "color": [
             0.026384949650022138,
             0.09504053029967952,
             0.03291880142594428,
             -0.01398779432195929,
             0.04941431038428723
            ],
            "coloraxis": "coloraxis",
            "size": [
             39445,
             742720,
             666715,
             406662,
             50438
            ],
            "sizemode": "area",
            "sizeref": 131.52359099999998,
            "symbol": "circle"
           },
           "mode": "markers",
           "name": "",
           "showlegend": false,
           "type": "scattergeo"
          }
         ],
         "name": "1929"
        },
        {
         "data": [
          {
           "customdata": [
            [
             38122
            ],
            [
             652939
            ],
            [
             576583
            ],
            [
             476100
            ],
            [
             46939
            ]
           ],
           "geo": "geo",
           "hovertemplate": "<b>%{hovertext}</b><br><br>Year=1930<br>Total=%{customdata[0]}<br>Country=%{location}<br>Change=%{marker.color}<extra></extra>",
           "hovertext": [
            "Denmark",
            "France",
            "Italy",
            "Spain",
            "Switzerland"
           ],
           "legendgroup": "",
           "locationmode": "country names",
           "locations": [
            "Denmark",
            "France",
            "Italy",
            "Spain",
            "Switzerland"
           ],
           "marker": {
            "color": [
             -0.03354037267080745,
             -0.12088135501938824,
             -0.13518819885558297,
             0.1707511397671777,
             -0.06937229866370598
            ],
            "coloraxis": "coloraxis",
            "size": [
             38122,
             652939,
             576583,
             476100,
             46939
            ],
            "sizemode": "area",
            "sizeref": 131.52359099999998,
            "symbol": "circle"
           },
           "mode": "markers",
           "name": "",
           "showlegend": false,
           "type": "scattergeo"
          }
         ],
         "name": "1930"
        },
        {
         "data": [
          {
           "customdata": [
            [
             40568
            ],
            [
             682698
            ],
            [
             609329
            ],
            [
             487616
            ],
            [
             49414
            ]
           ],
           "geo": "geo",
           "hovertemplate": "<b>%{hovertext}</b><br><br>Year=1931<br>Total=%{customdata[0]}<br>Country=%{location}<br>Change=%{marker.color}<extra></extra>",
           "hovertext": [
            "Denmark",
            "France",
            "Italy",
            "Spain",
            "Switzerland"
           ],
           "legendgroup": "",
           "locationmode": "country names",
           "locations": [
            "Denmark",
            "France",
            "Italy",
            "Spain",
            "Switzerland"
           ],
           "marker": {
            "color": [
             0.06416242589580823,
             0.04557699877017618,
             0.056793211038133284,
             0.024188195757193887,
             0.05272800869213223
            ],
            "coloraxis": "coloraxis",
            "size": [
             40568,
             682698,
             609329,
             487616,
             49414
            ],
            "sizemode": "area",
            "sizeref": 131.52359099999998,
            "symbol": "circle"
           },
           "mode": "markers",
           "name": "",
           "showlegend": false,
           "type": "scattergeo"
          }
         ],
         "name": "1931"
        },
        {
         "data": [
          {
           "customdata": [
            [
             39696
            ],
            [
             663662
            ],
            [
             610620
            ],
            [
             466596
            ],
            [
             49911
            ]
           ],
           "geo": "geo",
           "hovertemplate": "<b>%{hovertext}</b><br><br>Year=1932<br>Total=%{customdata[0]}<br>Country=%{location}<br>Change=%{marker.color}<extra></extra>",
           "hovertext": [
            "Denmark",
            "France",
            "Italy",
            "Spain",
            "Switzerland"
           ],
           "legendgroup": "",
           "locationmode": "country names",
           "locations": [
            "Denmark",
            "France",
            "Italy",
            "Spain",
            "Switzerland"
           ],
           "marker": {
            "color": [
             -0.021494774206270995,
             -0.027883485816568965,
             0.002118724039065878,
             -0.04310769129807057,
             0.010057878334075454
            ],
            "coloraxis": "coloraxis",
            "size": [
             39696,
             663662,
             610620,
             466596,
             49911
            ],
            "sizemode": "area",
            "sizeref": 131.52359099999998,
            "symbol": "circle"
           },
           "mode": "markers",
           "name": "",
           "showlegend": false,
           "type": "scattergeo"
          }
         ],
         "name": "1932"
        },
        {
         "data": [
          {
           "customdata": [
            [
             38282
            ],
            [
             664103
            ],
            [
             574101
            ],
            [
             473198
            ],
            [
             47181
            ]
           ],
           "geo": "geo",
           "hovertemplate": "<b>%{hovertext}</b><br><br>Year=1933<br>Total=%{customdata[0]}<br>Country=%{location}<br>Change=%{marker.color}<extra></extra>",
           "hovertext": [
            "Denmark",
            "France",
            "Italy",
            "Spain",
            "Switzerland"
           ],
           "legendgroup": "",
           "locationmode": "country names",
           "locations": [
            "Denmark",
            "France",
            "Italy",
            "Spain",
            "Switzerland"
           ],
           "marker": {
            "color": [
             -0.03562071745264006,
             0.0006644948784171323,
             -0.05980642625528154,
             0.014149285463227246,
             -0.05469736130311953
            ],
            "coloraxis": "coloraxis",
            "size": [
             38282,
             664103,
             574101,
             473198,
             47181
            ],
            "sizemode": "area",
            "sizeref": 131.52359099999998,
            "symbol": "circle"
           },
           "mode": "markers",
           "name": "",
           "showlegend": false,
           "type": "scattergeo"
          }
         ],
         "name": "1933"
        },
        {
         "data": [
          {
           "customdata": [
            [
             38045
            ],
            [
             637682
            ],
            [
             563293
            ],
            [
             463727
            ],
            [
             46806
            ]
           ],
           "geo": "geo",
           "hovertemplate": "<b>%{hovertext}</b><br><br>Year=1934<br>Total=%{customdata[0]}<br>Country=%{location}<br>Change=%{marker.color}<extra></extra>",
           "hovertext": [
            "Denmark",
            "France",
            "Italy",
            "Spain",
            "Switzerland"
           ],
           "legendgroup": "",
           "locationmode": "country names",
           "locations": [
            "Denmark",
            "France",
            "Italy",
            "Spain",
            "Switzerland"
           ],
           "marker": {
            "color": [
             -0.0061908991170784855,
             -0.039784491261144694,
             -0.018825955711625708,
             -0.020014877493142458,
             -0.007948114707191478
            ],
            "coloraxis": "coloraxis",
            "size": [
             38045,
             637682,
             563293,
             463727,
             46806
            ],
            "sizemode": "area",
            "sizeref": 131.52359099999998,
            "symbol": "circle"
           },
           "mode": "markers",
           "name": "",
           "showlegend": false,
           "type": "scattergeo"
          }
         ],
         "name": "1934"
        },
        {
         "data": [
          {
           "customdata": [
            [
             40809
            ],
            [
             661707
            ],
            [
             593930
            ],
            [
             457168
            ],
            [
             50233
            ]
           ],
           "geo": "geo",
           "hovertemplate": "<b>%{hovertext}</b><br><br>Year=1935<br>Total=%{customdata[0]}<br>Country=%{location}<br>Change=%{marker.color}<extra></extra>",
           "hovertext": [
            "Denmark",
            "France",
            "Italy",
            "Spain",
            "Switzerland"
           ],
           "legendgroup": "",
           "locationmode": "country names",
           "locations": [
            "Denmark",
            "France",
            "Italy",
            "Spain",
            "Switzerland"
           ],
           "marker": {
            "color": [
             0.0726508082533841,
             0.0376755185186346,
             0.05438910123150831,
             -0.014144097712662784,
             0.07321710891766009
            ],
            "coloraxis": "coloraxis",
            "size": [
             40809,
             661707,
             593930,
             457168,
             50233
            ],
            "sizemode": "area",
            "sizeref": 131.52359099999998,
            "symbol": "circle"
           },
           "mode": "markers",
           "name": "",
           "showlegend": false,
           "type": "scattergeo"
          }
         ],
         "name": "1935"
        },
        {
         "data": [
          {
           "customdata": [
            [
             40915
            ],
            [
             645834
            ],
            [
             589575
            ],
            [
             471003
            ],
            [
             47650
            ]
           ],
           "geo": "geo",
           "hovertemplate": "<b>%{hovertext}</b><br><br>Year=1936<br>Total=%{customdata[0]}<br>Country=%{location}<br>Change=%{marker.color}<extra></extra>",
           "hovertext": [
            "Denmark",
            "France",
            "Italy",
            "Spain",
            "Switzerland"
           ],
           "legendgroup": "",
           "locationmode": "country names",
           "locations": [
            "Denmark",
            "France",
            "Italy",
            "Spain",
            "Switzerland"
           ],
           "marker": {
            "color": [
             0.0025974662451910824,
             -0.023987958416640587,
             -0.007332513932618356,
             0.030262398068106267,
             -0.05142038102442614
            ],
            "coloraxis": "coloraxis",
            "size": [
             40915,
             645834,
             589575,
             471003,
             47650
            ],
            "sizemode": "area",
            "sizeref": 131.52359099999998,
            "symbol": "circle"
           },
           "mode": "markers",
           "name": "",
           "showlegend": false,
           "type": "scattergeo"
          }
         ],
         "name": "1936"
        },
        {
         "data": [
          {
           "customdata": [
            [
             40435
            ],
            [
             632867
            ],
            [
             615404
            ],
            [
             532369
            ],
            [
             47274
            ]
           ],
           "geo": "geo",
           "hovertemplate": "<b>%{hovertext}</b><br><br>Year=1937<br>Total=%{customdata[0]}<br>Country=%{location}<br>Change=%{marker.color}<extra></extra>",
           "hovertext": [
            "Denmark",
            "France",
            "Italy",
            "Spain",
            "Switzerland"
           ],
           "legendgroup": "",
           "locationmode": "country names",
           "locations": [
            "Denmark",
            "France",
            "Italy",
            "Spain",
            "Switzerland"
           ],
           "marker": {
            "color": [
             -0.011731638763289753,
             -0.02007791475828158,
             0.04380952380952374,
             0.13028791748672508,
             -0.007890870933892957
            ],
            "coloraxis": "coloraxis",
            "size": [
             40435,
             632867,
             615404,
             532369,
             47274
            ],
            "sizemode": "area",
            "sizeref": 131.52359099999998,
            "symbol": "circle"
           },
           "mode": "markers",
           "name": "",
           "showlegend": false,
           "type": "scattergeo"
          }
         ],
         "name": "1937"
        },
        {
         "data": [
          {
           "customdata": [
            [
             39049
            ],
            [
             650756
            ],
            [
             612206
            ],
            [
             528607
            ],
            [
             48576
            ]
           ],
           "geo": "geo",
           "hovertemplate": "<b>%{hovertext}</b><br><br>Year=1938<br>Total=%{customdata[0]}<br>Country=%{location}<br>Change=%{marker.color}<extra></extra>",
           "hovertext": [
            "Denmark",
            "France",
            "Italy",
            "Spain",
            "Switzerland"
           ],
           "legendgroup": "",
           "locationmode": "country names",
           "locations": [
            "Denmark",
            "France",
            "Italy",
            "Spain",
            "Switzerland"
           ],
           "marker": {
            "color": [
             -0.034277235068628675,
             0.028266602619507752,
             -0.005196586307531281,
             -0.007066527164429237,
             0.027541566188602706
            ],
            "coloraxis": "coloraxis",
            "size": [
             39049,
             650756,
             612206,
             528607,
             48576
            ],
            "sizemode": "area",
            "sizeref": 131.52359099999998,
            "symbol": "circle"
           },
           "mode": "markers",
           "name": "",
           "showlegend": false,
           "type": "scattergeo"
          }
         ],
         "name": "1938"
        },
        {
         "data": [
          {
           "customdata": [
            [
             38525
            ],
            [
             622426
            ],
            [
             590433
            ],
            [
             520433
            ],
            [
             49484
            ]
           ],
           "geo": "geo",
           "hovertemplate": "<b>%{hovertext}</b><br><br>Year=1939<br>Total=%{customdata[0]}<br>Country=%{location}<br>Change=%{marker.color}<extra></extra>",
           "hovertext": [
            "Denmark",
            "France",
            "Italy",
            "Spain",
            "Switzerland"
           ],
           "legendgroup": "",
           "locationmode": "country names",
           "locations": [
            "Denmark",
            "France",
            "Italy",
            "Spain",
            "Switzerland"
           ],
           "marker": {
            "color": [
             -0.01341903761940122,
             -0.04353398201476433,
             -0.03556482621862578,
             -0.015463283687124796,
             0.018692358366271478
            ],
            "coloraxis": "coloraxis",
            "size": [
             38525,
             622426,
             590433,
             520433,
             49484
            ],
            "sizemode": "area",
            "sizeref": 131.52359099999998,
            "symbol": "circle"
           },
           "mode": "markers",
           "name": "",
           "showlegend": false,
           "type": "scattergeo"
          }
         ],
         "name": "1939"
        },
        {
         "data": [
          {
           "customdata": [
            [
             39710
            ],
            [
             735658
            ],
            [
             619683.12
            ],
            [
             493028
            ],
            [
             50759
            ]
           ],
           "geo": "geo",
           "hovertemplate": "<b>%{hovertext}</b><br><br>Year=1940<br>Total=%{customdata[0]}<br>Country=%{location}<br>Change=%{marker.color}<extra></extra>",
           "hovertext": [
            "Denmark",
            "France",
            "Italy",
            "Spain",
            "Switzerland"
           ],
           "legendgroup": "",
           "locationmode": "country names",
           "locations": [
            "Denmark",
            "France",
            "Italy",
            "Spain",
            "Switzerland"
           ],
           "marker": {
            "color": [
             0.03075924724205059,
             0.18192042106210216,
             0.04954011716824769,
             -0.052658075102847035,
             0.02576590413062818
            ],
            "coloraxis": "coloraxis",
            "size": [
             39710,
             735658,
             619683.12,
             493028,
             50759
            ],
            "sizemode": "area",
            "sizeref": 131.52359099999998,
            "symbol": "circle"
           },
           "mode": "markers",
           "name": "",
           "showlegend": false,
           "type": "scattergeo"
          }
         ],
         "name": "1940"
        },
        {
         "data": [
          {
           "customdata": [
            [
             39721
            ],
            [
             655370
            ],
            [
             662662.89
            ],
            [
             557099
            ],
            [
             47336
            ]
           ],
           "geo": "geo",
           "hovertemplate": "<b>%{hovertext}</b><br><br>Year=1941<br>Total=%{customdata[0]}<br>Country=%{location}<br>Change=%{marker.color}<extra></extra>",
           "hovertext": [
            "Denmark",
            "France",
            "Italy",
            "Spain",
            "Switzerland"
           ],
           "legendgroup": "",
           "locationmode": "country names",
           "locations": [
            "Denmark",
            "France",
            "Italy",
            "Spain",
            "Switzerland"
           ],
           "marker": {
            "color": [
             0.0002770083102492382,
             -0.10913766994989516,
             0.06935765815276684,
             0.12995407968715766,
             -0.06743631671230721
            ],
            "coloraxis": "coloraxis",
            "size": [
             39721,
             655370,
             662662.89,
             557099,
             47336
            ],
            "sizemode": "area",
            "sizeref": 131.52359099999998,
            "symbol": "circle"
           },
           "mode": "markers",
           "name": "",
           "showlegend": false,
           "type": "scattergeo"
          }
         ],
         "name": "1941"
        },
        {
         "data": [
          {
           "customdata": [
            [
             37475
            ],
            [
             637800
            ],
            [
             707605.94
            ],
            [
             439719
            ],
            [
             46928
            ]
           ],
           "geo": "geo",
           "hovertemplate": "<b>%{hovertext}</b><br><br>Year=1942<br>Total=%{customdata[0]}<br>Country=%{location}<br>Change=%{marker.color}<extra></extra>",
           "hovertext": [
            "Denmark",
            "France",
            "Italy",
            "Spain",
            "Switzerland"
           ],
           "legendgroup": "",
           "locationmode": "country names",
           "locations": [
            "Denmark",
            "France",
            "Italy",
            "Spain",
            "Switzerland"
           ],
           "marker": {
            "color": [
             -0.056544397170262606,
             -0.026809283305613607,
             0.06782189055433596,
             -0.21069863704655722,
             -0.008619232719283443
            ],
            "coloraxis": "coloraxis",
            "size": [
             37475,
             637800,
             707605.94,
             439719,
             46928
            ],
            "sizemode": "area",
            "sizeref": 131.52359099999998,
            "symbol": "circle"
           },
           "mode": "markers",
           "name": "",
           "showlegend": false,
           "type": "scattergeo"
          }
         ],
         "name": "1942"
        },
        {
         "data": [
          {
           "customdata": [
            [
             37923
            ],
            [
             603343
            ],
            [
             782606.08
            ],
            [
             410012
            ],
            [
             47409
            ]
           ],
           "geo": "geo",
           "hovertemplate": "<b>%{hovertext}</b><br><br>Year=1943<br>Total=%{customdata[0]}<br>Country=%{location}<br>Change=%{marker.color}<extra></extra>",
           "hovertext": [
            "Denmark",
            "France",
            "Italy",
            "Spain",
            "Switzerland"
           ],
           "legendgroup": "",
           "locationmode": "country names",
           "locations": [
            "Denmark",
            "France",
            "Italy",
            "Spain",
            "Switzerland"
           ],
           "marker": {
            "color": [
             0.01195463642428285,
             -0.05402477265600503,
             0.10599139402362856,
             -0.0675590547599717,
             0.010249744289123841
            ],
            "coloraxis": "coloraxis",
            "size": [
             37923,
             603343,
             782606.08,
             410012,
             47409
            ],
            "sizemode": "area",
            "sizeref": 131.52359099999998,
            "symbol": "circle"
           },
           "mode": "markers",
           "name": "",
           "showlegend": false,
           "type": "scattergeo"
          }
         ],
         "name": "1943"
        },
        {
         "data": [
          {
           "customdata": [
            [
             41051
            ],
            [
             700679
            ],
            [
             721607.94
            ],
            [
             402435
            ],
            [
             52336
            ]
           ],
           "geo": "geo",
           "hovertemplate": "<b>%{hovertext}</b><br><br>Year=1944<br>Total=%{customdata[0]}<br>Country=%{location}<br>Change=%{marker.color}<extra></extra>",
           "hovertext": [
            "Denmark",
            "France",
            "Italy",
            "Spain",
            "Switzerland"
           ],
           "legendgroup": "",
           "locationmode": "country names",
           "locations": [
            "Denmark",
            "France",
            "Italy",
            "Spain",
            "Switzerland"
           ],
           "marker": {
            "color": [
             0.08248292592885575,
             0.16132780193024532,
             -0.07794232827835945,
             -0.018479946928382618,
             0.10392541500558972
            ],
            "coloraxis": "coloraxis",
            "size": [
             41051,
             700679,
             721607.94,
             402435,
             52336
            ],
            "sizemode": "area",
            "sizeref": 131.52359099999998,
            "symbol": "circle"
           },
           "mode": "markers",
           "name": "",
           "showlegend": false,
           "type": "scattergeo"
          }
         ],
         "name": "1944"
        },
        {
         "data": [
          {
           "customdata": [
            [
             42216
            ],
            [
             614344
            ],
            [
             634862.93
            ],
            [
             380994
            ],
            [
             51086
            ]
           ],
           "geo": "geo",
           "hovertemplate": "<b>%{hovertext}</b><br><br>Year=1945<br>Total=%{customdata[0]}<br>Country=%{location}<br>Change=%{marker.color}<extra></extra>",
           "hovertext": [
            "Denmark",
            "France",
            "Italy",
            "Spain",
            "Switzerland"
           ],
           "legendgroup": "",
           "locationmode": "country names",
           "locations": [
            "Denmark",
            "France",
            "Italy",
            "Spain",
            "Switzerland"
           ],
           "marker": {
            "color": [
             0.028379333024774134,
             -0.12321619457697464,
             -0.12021071996519317,
             -0.05327816914532779,
             -0.023884133292571108
            ],
            "coloraxis": "coloraxis",
            "size": [
             42216,
             614344,
             634862.93,
             380994,
             51086
            ],
            "sizemode": "area",
            "sizeref": 131.52359099999998,
            "symbol": "circle"
           },
           "mode": "markers",
           "name": "",
           "showlegend": false,
           "type": "scattergeo"
          }
         ],
         "name": "1945"
        },
        {
         "data": [
          {
           "customdata": [
            [
             41996
            ],
            [
             545418
            ],
            [
             542516
            ],
            [
             399923
            ],
            [
             50276
            ]
           ],
           "geo": "geo",
           "hovertemplate": "<b>%{hovertext}</b><br><br>Year=1946<br>Total=%{customdata[0]}<br>Country=%{location}<br>Change=%{marker.color}<extra></extra>",
           "hovertext": [
            "Denmark",
            "France",
            "Italy",
            "Spain",
            "Switzerland"
           ],
           "legendgroup": "",
           "locationmode": "country names",
           "locations": [
            "Denmark",
            "France",
            "Italy",
            "Spain",
            "Switzerland"
           ],
           "marker": {
            "color": [
             -0.005211294296001534,
             -0.11219447085020773,
             -0.14545963488528157,
             0.04968319711071567,
             -0.015855616020044594
            ],
            "coloraxis": "coloraxis",
            "size": [
             41996,
             545418,
             542516,
             399923,
             50276
            ],
            "sizemode": "area",
            "sizeref": 131.52359099999998,
            "symbol": "circle"
           },
           "mode": "markers",
           "name": "",
           "showlegend": false,
           "type": "scattergeo"
          }
         ],
         "name": "1946"
        },
        {
         "data": [
          {
           "customdata": [
            [
             40029
            ],
            [
             537917
            ],
            [
             518665
            ],
            [
             368437
            ],
            [
             51384
            ]
           ],
           "geo": "geo",
           "hovertemplate": "<b>%{hovertext}</b><br><br>Year=1947<br>Total=%{customdata[0]}<br>Country=%{location}<br>Change=%{marker.color}<extra></extra>",
           "hovertext": [
            "Denmark",
            "France",
            "Italy",
            "Spain",
            "Switzerland"
           ],
           "legendgroup": "",
           "locationmode": "country names",
           "locations": [
            "Denmark",
            "France",
            "Italy",
            "Spain",
            "Switzerland"
           ],
           "marker": {
            "color": [
             -0.04683779407562627,
             -0.01375275476790283,
             -0.043963680333851896,
             -0.07873015555494434,
             0.02203834831728857
            ],
            "coloraxis": "coloraxis",
            "size": [
             40029,
             537917,
             518665,
             368437,
             51384
            ],
            "sizemode": "area",
            "sizeref": 131.52359099999998,
            "symbol": "circle"
           },
           "mode": "markers",
           "name": "",
           "showlegend": false,
           "type": "scattergeo"
          }
         ],
         "name": "1947"
        },
        {
         "data": [
          {
           "customdata": [
            [
             35969
            ],
            [
             512947
            ],
            [
             485846
            ],
            [
             343871
            ],
            [
             49679
            ]
           ],
           "geo": "geo",
           "hovertemplate": "<b>%{hovertext}</b><br><br>Year=1948<br>Total=%{customdata[0]}<br>Country=%{location}<br>Change=%{marker.color}<extra></extra>",
           "hovertext": [
            "Denmark",
            "France",
            "Italy",
            "Spain",
            "Switzerland"
           ],
           "legendgroup": "",
           "locationmode": "country names",
           "locations": [
            "Denmark",
            "France",
            "Italy",
            "Spain",
            "Switzerland"
           ],
           "marker": {
            "color": [
             -0.10142646581228609,
             -0.04641980082429076,
             -0.06327591026963453,
             -0.06667625672774447,
             -0.033181535108204874
            ],
            "coloraxis": "coloraxis",
            "size": [
             35969,
             512947,
             485846,
             343871,
             49679
            ],
            "sizemode": "area",
            "sizeref": 131.52359099999998,
            "symbol": "circle"
           },
           "mode": "markers",
           "name": "",
           "showlegend": false,
           "type": "scattergeo"
          }
         ],
         "name": "1948"
        },
        {
         "data": [
          {
           "customdata": [
            [
             37785
            ],
            [
             573351
            ],
            [
             482070
            ],
            [
             360206
            ],
            [
             49497
            ]
           ],
           "geo": "geo",
           "hovertemplate": "<b>%{hovertext}</b><br><br>Year=1949<br>Total=%{customdata[0]}<br>Country=%{location}<br>Change=%{marker.color}<extra></extra>",
           "hovertext": [
            "Denmark",
            "France",
            "Italy",
            "Spain",
            "Switzerland"
           ],
           "legendgroup": "",
           "locationmode": "country names",
           "locations": [
            "Denmark",
            "France",
            "Italy",
            "Spain",
            "Switzerland"
           ],
           "marker": {
            "color": [
             0.05048792015346559,
             0.11775875480312781,
             -0.007772010060801193,
             0.047503278845846264,
             -0.0036635197970973365
            ],
            "coloraxis": "coloraxis",
            "size": [
             37785,
             573351,
             482070,
             360206,
             49497
            ],
            "sizemode": "area",
            "sizeref": 131.52359099999998,
            "symbol": "circle"
           },
           "mode": "markers",
           "name": "",
           "showlegend": false,
           "type": "scattergeo"
          }
         ],
         "name": "1949"
        },
        {
         "data": [
          {
           "customdata": [
            [
             39292
            ],
            [
             534336
            ],
            [
             452068
            ],
            [
             339390
            ],
            [
             47372
            ]
           ],
           "geo": "geo",
           "hovertemplate": "<b>%{hovertext}</b><br><br>Year=1950<br>Total=%{customdata[0]}<br>Country=%{location}<br>Change=%{marker.color}<extra></extra>",
           "hovertext": [
            "Denmark",
            "France",
            "Italy",
            "Spain",
            "Switzerland"
           ],
           "legendgroup": "",
           "locationmode": "country names",
           "locations": [
            "Denmark",
            "France",
            "Italy",
            "Spain",
            "Switzerland"
           ],
           "marker": {
            "color": [
             0.03988355167394464,
             -0.06804732179764228,
             -0.06223577488746446,
             -0.05778915398410911,
             -0.04293189486231486
            ],
            "coloraxis": "coloraxis",
            "size": [
             39292,
             534336,
             452068,
             339390,
             47372
            ],
            "sizemode": "area",
            "sizeref": 131.52359099999998,
            "symbol": "circle"
           },
           "mode": "markers",
           "name": "",
           "showlegend": false,
           "type": "scattergeo"
          }
         ],
         "name": "1950"
        },
        {
         "data": [
          {
           "customdata": [
            [
             37953
            ],
            [
             565693
            ],
            [
             481874
            ],
            [
             359567
            ],
            [
             49952
            ]
           ],
           "geo": "geo",
           "hovertemplate": "<b>%{hovertext}</b><br><br>Year=1951<br>Total=%{customdata[0]}<br>Country=%{location}<br>Change=%{marker.color}<extra></extra>",
           "hovertext": [
            "Denmark",
            "France",
            "Italy",
            "Spain",
            "Switzerland"
           ],
           "legendgroup": "",
           "locationmode": "country names",
           "locations": [
            "Denmark",
            "France",
            "Italy",
            "Spain",
            "Switzerland"
           ],
           "marker": {
            "color": [
             -0.03407818385421968,
             0.058684048987902804,
             0.06593255881858484,
             0.059450779339403015,
             0.0544625517183146
            ],
            "coloraxis": "coloraxis",
            "size": [
             37953,
             565693,
             481874,
             359567,
             49952
            ],
            "sizemode": "area",
            "sizeref": 131.52359099999998,
            "symbol": "circle"
           },
           "mode": "markers",
           "name": "",
           "showlegend": false,
           "type": "scattergeo"
          }
         ],
         "name": "1951"
        },
        {
         "data": [
          {
           "customdata": [
            [
             39173
            ],
            [
             524651
            ],
            [
             474422
            ],
            [
             306218
            ],
            [
             47625
            ]
           ],
           "geo": "geo",
           "hovertemplate": "<b>%{hovertext}</b><br><br>Year=1952<br>Total=%{customdata[0]}<br>Country=%{location}<br>Change=%{marker.color}<extra></extra>",
           "hovertext": [
            "Denmark",
            "France",
            "Italy",
            "Spain",
            "Switzerland"
           ],
           "legendgroup": "",
           "locationmode": "country names",
           "locations": [
            "Denmark",
            "France",
            "Italy",
            "Spain",
            "Switzerland"
           ],
           "marker": {
            "color": [
             0.03214502147392828,
             -0.07255171974905117,
             -0.01546462353229272,
             -0.1483701229534412,
             -0.04658472133247915
            ],
            "coloraxis": "coloraxis",
            "size": [
             39173,
             524651,
             474422,
             306218,
             47625
            ],
            "sizemode": "area",
            "sizeref": 131.52359099999998,
            "symbol": "circle"
           },
           "mode": "markers",
           "name": "",
           "showlegend": false,
           "type": "scattergeo"
          }
         ],
         "name": "1952"
        },
        {
         "data": [
          {
           "customdata": [
            [
             39349
            ],
            [
             556849
            ],
            [
             472672
            ],
            [
             307120
            ],
            [
             49684
            ]
           ],
           "geo": "geo",
           "hovertemplate": "<b>%{hovertext}</b><br><br>Year=1953<br>Total=%{customdata[0]}<br>Country=%{location}<br>Change=%{marker.color}<extra></extra>",
           "hovertext": [
            "Denmark",
            "France",
            "Italy",
            "Spain",
            "Switzerland"
           ],
           "legendgroup": "",
           "locationmode": "country names",
           "locations": [
            "Denmark",
            "France",
            "Italy",
            "Spain",
            "Switzerland"
           ],
           "marker": {
            "color": [
             0.004492890511321512,
             0.06137032046064905,
             -0.003688699090682923,
             0.0029456139090451305,
             0.04323359580052499
            ],
            "coloraxis": "coloraxis",
            "size": [
             39349,
             556849,
             472672,
             307120,
             49684
            ],
            "sizemode": "area",
            "sizeref": 131.52359099999998,
            "symbol": "circle"
           },
           "mode": "markers",
           "name": "",
           "showlegend": false,
           "type": "scattergeo"
          }
         ],
         "name": "1953"
        },
        {
         "data": [
          {
           "customdata": [
            [
             39885
            ],
            [
             518786
            ],
            [
             441878
            ],
            [
             290084
            ],
            [
             49113
            ]
           ],
           "geo": "geo",
           "hovertemplate": "<b>%{hovertext}</b><br><br>Year=1954<br>Total=%{customdata[0]}<br>Country=%{location}<br>Change=%{marker.color}<extra></extra>",
           "hovertext": [
            "Denmark",
            "France",
            "Italy",
            "Spain",
            "Switzerland"
           ],
           "legendgroup": "",
           "locationmode": "country names",
           "locations": [
            "Denmark",
            "France",
            "Italy",
            "Spain",
            "Switzerland"
           ],
           "marker": {
            "color": [
             0.013621693054461259,
             -0.06835425761741509,
             -0.06514877124094509,
             -0.05547017452461578,
             -0.011492633443362044
            ],
            "coloraxis": "coloraxis",
            "size": [
             39885,
             518786,
             441878,
             290084,
             49113
            ],
            "sizemode": "area",
            "sizeref": 131.52359099999998,
            "symbol": "circle"
           },
           "mode": "markers",
           "name": "",
           "showlegend": false,
           "type": "scattergeo"
          }
         ],
         "name": "1954"
        },
        {
         "data": [
          {
           "customdata": [
            [
             38788
            ],
            [
             526205
            ],
            [
             446667
            ],
            [
             302034
            ],
            [
             50366
            ]
           ],
           "geo": "geo",
           "hovertemplate": "<b>%{hovertext}</b><br><br>Year=1955<br>Total=%{customdata[0]}<br>Country=%{location}<br>Change=%{marker.color}<extra></extra>",
           "hovertext": [
            "Denmark",
            "France",
            "Italy",
            "Spain",
            "Switzerland"
           ],
           "legendgroup": "",
           "locationmode": "country names",
           "locations": [
            "Denmark",
            "France",
            "Italy",
            "Spain",
            "Switzerland"
           ],
           "marker": {
            "color": [
             -0.027504074213363428,
             0.014300694313262197,
             0.010837833067045555,
             0.0411949642172611,
             0.025512593407040818
            ],
            "coloraxis": "coloraxis",
            "size": [
             38788,
             526205,
             446667,
             302034,
             50366
            ],
            "sizemode": "area",
            "sizeref": 131.52359099999998,
            "symbol": "circle"
           },
           "mode": "markers",
           "name": "",
           "showlegend": false,
           "type": "scattergeo"
          }
         ],
         "name": "1955"
        },
        {
         "data": [
          {
           "customdata": [
            [
             39587
            ],
            [
             545699
            ],
            [
             497539
            ],
            [
             316073
            ],
            [
             51573
            ]
           ],
           "geo": "geo",
           "hovertemplate": "<b>%{hovertext}</b><br><br>Year=1956<br>Total=%{customdata[0]}<br>Country=%{location}<br>Change=%{marker.color}<extra></extra>",
           "hovertext": [
            "Denmark",
            "France",
            "Italy",
            "Spain",
            "Switzerland"
           ],
           "legendgroup": "",
           "locationmode": "country names",
           "locations": [
            "Denmark",
            "France",
            "Italy",
            "Spain",
            "Switzerland"
           ],
           "marker": {
            "color": [
             0.02059915437764248,
             0.0370463982668352,
             0.11389245231906542,
             0.04648152194786026,
             0.02396457927967277
            ],
            "coloraxis": "coloraxis",
            "size": [
             39587,
             545699,
             497539,
             316073,
             51573
            ],
            "sizemode": "area",
            "sizeref": 131.52359099999998,
            "symbol": "circle"
           },
           "mode": "markers",
           "name": "",
           "showlegend": false,
           "type": "scattergeo"
          }
         ],
         "name": "1956"
        },
        {
         "data": [
          {
           "customdata": [
            [
             41731
            ],
            [
             532107
            ],
            [
             484190
            ],
            [
             322635
            ],
            [
             51071
            ]
           ],
           "geo": "geo",
           "hovertemplate": "<b>%{hovertext}</b><br><br>Year=1957<br>Total=%{customdata[0]}<br>Country=%{location}<br>Change=%{marker.color}<extra></extra>",
           "hovertext": [
            "Denmark",
            "France",
            "Italy",
            "Spain",
            "Switzerland"
           ],
           "legendgroup": "",
           "locationmode": "country names",
           "locations": [
            "Denmark",
            "France",
            "Italy",
            "Spain",
            "Switzerland"
           ],
           "marker": {
            "color": [
             0.05415919367469124,
             -0.024907503953644827,
             -0.02683005754322776,
             0.020761026724838816,
             -0.009733775425125546
            ],
            "coloraxis": "coloraxis",
            "size": [
             41731,
             532107,
             484190,
             322635,
             51071
            ],
            "sizemode": "area",
            "sizeref": 131.52359099999998,
            "symbol": "circle"
           },
           "mode": "markers",
           "name": "",
           "showlegend": false,
           "type": "scattergeo"
          }
         ],
         "name": "1957"
        },
        {
         "data": [
          {
           "customdata": [
            [
             41561
            ],
            [
             500596
            ],
            [
             457690
            ],
            [
             286381
            ],
            [
             49281
            ]
           ],
           "geo": "geo",
           "hovertemplate": "<b>%{hovertext}</b><br><br>Year=1958<br>Total=%{customdata[0]}<br>Country=%{location}<br>Change=%{marker.color}<extra></extra>",
           "hovertext": [
            "Denmark",
            "France",
            "Italy",
            "Spain",
            "Switzerland"
           ],
           "legendgroup": "",
           "locationmode": "country names",
           "locations": [
            "Denmark",
            "France",
            "Italy",
            "Spain",
            "Switzerland"
           ],
           "marker": {
            "color": [
             -0.004073710191464408,
             -0.059219292360371156,
             -0.054730580970280274,
             -0.11236846591349359,
             -0.03504924516849095
            ],
            "coloraxis": "coloraxis",
            "size": [
             41561,
             500596,
             457690,
             286381,
             49281
            ],
            "sizemode": "area",
            "sizeref": 131.52359099999998,
            "symbol": "circle"
           },
           "mode": "markers",
           "name": "",
           "showlegend": false,
           "type": "scattergeo"
          }
         ],
         "name": "1958"
        },
        {
         "data": [
          {
           "customdata": [
            [
             42159
            ],
            [
             509089
            ],
            [
             454740
            ],
            [
             294954
            ],
            [
             50077
            ]
           ],
           "geo": "geo",
           "hovertemplate": "<b>%{hovertext}</b><br><br>Year=1959<br>Total=%{customdata[0]}<br>Country=%{location}<br>Change=%{marker.color}<extra></extra>",
           "hovertext": [
            "Denmark",
            "France",
            "Italy",
            "Spain",
            "Switzerland"
           ],
           "legendgroup": "",
           "locationmode": "country names",
           "locations": [
            "Denmark",
            "France",
            "Italy",
            "Spain",
            "Switzerland"
           ],
           "marker": {
            "color": [
             0.014388489208633004,
             0.016965776794061416,
             -0.006445410649129291,
             0.02993564517199121,
             0.016152269637385697
            ],
            "coloraxis": "coloraxis",
            "size": [
             42159,
             509089,
             454740,
             294954,
             50077
            ],
            "sizemode": "area",
            "sizeref": 131.52359099999998,
            "symbol": "circle"
           },
           "mode": "markers",
           "name": "",
           "showlegend": false,
           "type": "scattergeo"
          }
         ],
         "name": "1959"
        },
        {
         "data": [
          {
           "customdata": [
            [
             43672
            ],
            [
             520960
            ],
            [
             480932
            ],
            [
             289860
            ],
            [
             52094
            ]
           ],
           "geo": "geo",
           "hovertemplate": "<b>%{hovertext}</b><br><br>Year=1960<br>Total=%{customdata[0]}<br>Country=%{location}<br>Change=%{marker.color}<extra></extra>",
           "hovertext": [
            "Denmark",
            "France",
            "Italy",
            "Spain",
            "Switzerland"
           ],
           "legendgroup": "",
           "locationmode": "country names",
           "locations": [
            "Denmark",
            "France",
            "Italy",
            "Spain",
            "Switzerland"
           ],
           "marker": {
            "color": [
             0.03588794800635697,
             0.02331812315724746,
             0.05759774816378593,
             -0.017270489635672015,
             0.04027797192323823
            ],
            "coloraxis": "coloraxis",
            "size": [
             43672,
             520960,
             480932,
             289860,
             52094
            ],
            "sizemode": "area",
            "sizeref": 131.52359099999998,
            "symbol": "circle"
           },
           "mode": "markers",
           "name": "",
           "showlegend": false,
           "type": "scattergeo"
          }
         ],
         "name": "1960"
        }
       ],
       "layout": {
        "coloraxis": {
         "cmax": 0.3,
         "cmin": -0.3,
         "colorbar": {
          "tickfont": {
           "size": 10
          },
          "title": {
           "text": "Change"
          }
         },
         "colorscale": [
          [
           0,
           "rgb(0,104,55)"
          ],
          [
           0.1,
           "rgb(26,152,80)"
          ],
          [
           0.2,
           "rgb(102,189,99)"
          ],
          [
           0.3,
           "rgb(166,217,106)"
          ],
          [
           0.4,
           "rgb(217,239,139)"
          ],
          [
           0.5,
           "rgb(255,255,191)"
          ],
          [
           0.6,
           "rgb(254,224,139)"
          ],
          [
           0.7,
           "rgb(253,174,97)"
          ],
          [
           0.8,
           "rgb(244,109,67)"
          ],
          [
           0.9,
           "rgb(215,48,39)"
          ],
          [
           1,
           "rgb(165,0,38)"
          ]
         ]
        },
        "geo": {
         "center": {
          "lat": 57.84926686509271,
          "lon": 13.1488265747832
         },
         "domain": {
          "x": [
           0,
           1
          ],
          "y": [
           0,
           1
          ]
         },
         "lataxis": {
          "range": [
           35,
           65
          ]
         },
         "lonaxis": {
          "range": [
           -15,
           30
          ]
         },
         "projection": {
          "scale": 0.6417129487814521,
          "type": "natural earth"
         },
         "scope": "europe"
        },
        "height": 600,
        "legend": {
         "itemsizing": "constant",
         "tracegroupgap": 0
        },
        "sliders": [
         {
          "active": 50,
          "currentvalue": {
           "prefix": "Year="
          },
          "len": 0.9,
          "pad": {
           "b": 10,
           "t": 60
          },
          "steps": [
           {
            "args": [
             [
              "1910"
             ],
             {
              "frame": {
               "duration": 0,
               "redraw": true
              },
              "fromcurrent": true,
              "mode": "immediate",
              "transition": {
               "duration": 0,
               "easing": "linear"
              }
             }
            ],
            "label": "1910",
            "method": "animate"
           },
           {
            "args": [
             [
              "1911"
             ],
             {
              "frame": {
               "duration": 0,
               "redraw": true
              },
              "fromcurrent": true,
              "mode": "immediate",
              "transition": {
               "duration": 0,
               "easing": "linear"
              }
             }
            ],
            "label": "1911",
            "method": "animate"
           },
           {
            "args": [
             [
              "1912"
             ],
             {
              "frame": {
               "duration": 0,
               "redraw": true
              },
              "fromcurrent": true,
              "mode": "immediate",
              "transition": {
               "duration": 0,
               "easing": "linear"
              }
             }
            ],
            "label": "1912",
            "method": "animate"
           },
           {
            "args": [
             [
              "1913"
             ],
             {
              "frame": {
               "duration": 0,
               "redraw": true
              },
              "fromcurrent": true,
              "mode": "immediate",
              "transition": {
               "duration": 0,
               "easing": "linear"
              }
             }
            ],
            "label": "1913",
            "method": "animate"
           },
           {
            "args": [
             [
              "1914"
             ],
             {
              "frame": {
               "duration": 0,
               "redraw": true
              },
              "fromcurrent": true,
              "mode": "immediate",
              "transition": {
               "duration": 0,
               "easing": "linear"
              }
             }
            ],
            "label": "1914",
            "method": "animate"
           },
           {
            "args": [
             [
              "1915"
             ],
             {
              "frame": {
               "duration": 0,
               "redraw": true
              },
              "fromcurrent": true,
              "mode": "immediate",
              "transition": {
               "duration": 0,
               "easing": "linear"
              }
             }
            ],
            "label": "1915",
            "method": "animate"
           },
           {
            "args": [
             [
              "1916"
             ],
             {
              "frame": {
               "duration": 0,
               "redraw": true
              },
              "fromcurrent": true,
              "mode": "immediate",
              "transition": {
               "duration": 0,
               "easing": "linear"
              }
             }
            ],
            "label": "1916",
            "method": "animate"
           },
           {
            "args": [
             [
              "1917"
             ],
             {
              "frame": {
               "duration": 0,
               "redraw": true
              },
              "fromcurrent": true,
              "mode": "immediate",
              "transition": {
               "duration": 0,
               "easing": "linear"
              }
             }
            ],
            "label": "1917",
            "method": "animate"
           },
           {
            "args": [
             [
              "1918"
             ],
             {
              "frame": {
               "duration": 0,
               "redraw": true
              },
              "fromcurrent": true,
              "mode": "immediate",
              "transition": {
               "duration": 0,
               "easing": "linear"
              }
             }
            ],
            "label": "1918",
            "method": "animate"
           },
           {
            "args": [
             [
              "1919"
             ],
             {
              "frame": {
               "duration": 0,
               "redraw": true
              },
              "fromcurrent": true,
              "mode": "immediate",
              "transition": {
               "duration": 0,
               "easing": "linear"
              }
             }
            ],
            "label": "1919",
            "method": "animate"
           },
           {
            "args": [
             [
              "1920"
             ],
             {
              "frame": {
               "duration": 0,
               "redraw": true
              },
              "fromcurrent": true,
              "mode": "immediate",
              "transition": {
               "duration": 0,
               "easing": "linear"
              }
             }
            ],
            "label": "1920",
            "method": "animate"
           },
           {
            "args": [
             [
              "1921"
             ],
             {
              "frame": {
               "duration": 0,
               "redraw": true
              },
              "fromcurrent": true,
              "mode": "immediate",
              "transition": {
               "duration": 0,
               "easing": "linear"
              }
             }
            ],
            "label": "1921",
            "method": "animate"
           },
           {
            "args": [
             [
              "1922"
             ],
             {
              "frame": {
               "duration": 0,
               "redraw": true
              },
              "fromcurrent": true,
              "mode": "immediate",
              "transition": {
               "duration": 0,
               "easing": "linear"
              }
             }
            ],
            "label": "1922",
            "method": "animate"
           },
           {
            "args": [
             [
              "1923"
             ],
             {
              "frame": {
               "duration": 0,
               "redraw": true
              },
              "fromcurrent": true,
              "mode": "immediate",
              "transition": {
               "duration": 0,
               "easing": "linear"
              }
             }
            ],
            "label": "1923",
            "method": "animate"
           },
           {
            "args": [
             [
              "1924"
             ],
             {
              "frame": {
               "duration": 0,
               "redraw": true
              },
              "fromcurrent": true,
              "mode": "immediate",
              "transition": {
               "duration": 0,
               "easing": "linear"
              }
             }
            ],
            "label": "1924",
            "method": "animate"
           },
           {
            "args": [
             [
              "1925"
             ],
             {
              "frame": {
               "duration": 0,
               "redraw": true
              },
              "fromcurrent": true,
              "mode": "immediate",
              "transition": {
               "duration": 0,
               "easing": "linear"
              }
             }
            ],
            "label": "1925",
            "method": "animate"
           },
           {
            "args": [
             [
              "1926"
             ],
             {
              "frame": {
               "duration": 0,
               "redraw": true
              },
              "fromcurrent": true,
              "mode": "immediate",
              "transition": {
               "duration": 0,
               "easing": "linear"
              }
             }
            ],
            "label": "1926",
            "method": "animate"
           },
           {
            "args": [
             [
              "1927"
             ],
             {
              "frame": {
               "duration": 0,
               "redraw": true
              },
              "fromcurrent": true,
              "mode": "immediate",
              "transition": {
               "duration": 0,
               "easing": "linear"
              }
             }
            ],
            "label": "1927",
            "method": "animate"
           },
           {
            "args": [
             [
              "1928"
             ],
             {
              "frame": {
               "duration": 0,
               "redraw": true
              },
              "fromcurrent": true,
              "mode": "immediate",
              "transition": {
               "duration": 0,
               "easing": "linear"
              }
             }
            ],
            "label": "1928",
            "method": "animate"
           },
           {
            "args": [
             [
              "1929"
             ],
             {
              "frame": {
               "duration": 0,
               "redraw": true
              },
              "fromcurrent": true,
              "mode": "immediate",
              "transition": {
               "duration": 0,
               "easing": "linear"
              }
             }
            ],
            "label": "1929",
            "method": "animate"
           },
           {
            "args": [
             [
              "1930"
             ],
             {
              "frame": {
               "duration": 0,
               "redraw": true
              },
              "fromcurrent": true,
              "mode": "immediate",
              "transition": {
               "duration": 0,
               "easing": "linear"
              }
             }
            ],
            "label": "1930",
            "method": "animate"
           },
           {
            "args": [
             [
              "1931"
             ],
             {
              "frame": {
               "duration": 0,
               "redraw": true
              },
              "fromcurrent": true,
              "mode": "immediate",
              "transition": {
               "duration": 0,
               "easing": "linear"
              }
             }
            ],
            "label": "1931",
            "method": "animate"
           },
           {
            "args": [
             [
              "1932"
             ],
             {
              "frame": {
               "duration": 0,
               "redraw": true
              },
              "fromcurrent": true,
              "mode": "immediate",
              "transition": {
               "duration": 0,
               "easing": "linear"
              }
             }
            ],
            "label": "1932",
            "method": "animate"
           },
           {
            "args": [
             [
              "1933"
             ],
             {
              "frame": {
               "duration": 0,
               "redraw": true
              },
              "fromcurrent": true,
              "mode": "immediate",
              "transition": {
               "duration": 0,
               "easing": "linear"
              }
             }
            ],
            "label": "1933",
            "method": "animate"
           },
           {
            "args": [
             [
              "1934"
             ],
             {
              "frame": {
               "duration": 0,
               "redraw": true
              },
              "fromcurrent": true,
              "mode": "immediate",
              "transition": {
               "duration": 0,
               "easing": "linear"
              }
             }
            ],
            "label": "1934",
            "method": "animate"
           },
           {
            "args": [
             [
              "1935"
             ],
             {
              "frame": {
               "duration": 0,
               "redraw": true
              },
              "fromcurrent": true,
              "mode": "immediate",
              "transition": {
               "duration": 0,
               "easing": "linear"
              }
             }
            ],
            "label": "1935",
            "method": "animate"
           },
           {
            "args": [
             [
              "1936"
             ],
             {
              "frame": {
               "duration": 0,
               "redraw": true
              },
              "fromcurrent": true,
              "mode": "immediate",
              "transition": {
               "duration": 0,
               "easing": "linear"
              }
             }
            ],
            "label": "1936",
            "method": "animate"
           },
           {
            "args": [
             [
              "1937"
             ],
             {
              "frame": {
               "duration": 0,
               "redraw": true
              },
              "fromcurrent": true,
              "mode": "immediate",
              "transition": {
               "duration": 0,
               "easing": "linear"
              }
             }
            ],
            "label": "1937",
            "method": "animate"
           },
           {
            "args": [
             [
              "1938"
             ],
             {
              "frame": {
               "duration": 0,
               "redraw": true
              },
              "fromcurrent": true,
              "mode": "immediate",
              "transition": {
               "duration": 0,
               "easing": "linear"
              }
             }
            ],
            "label": "1938",
            "method": "animate"
           },
           {
            "args": [
             [
              "1939"
             ],
             {
              "frame": {
               "duration": 0,
               "redraw": true
              },
              "fromcurrent": true,
              "mode": "immediate",
              "transition": {
               "duration": 0,
               "easing": "linear"
              }
             }
            ],
            "label": "1939",
            "method": "animate"
           },
           {
            "args": [
             [
              "1940"
             ],
             {
              "frame": {
               "duration": 0,
               "redraw": true
              },
              "fromcurrent": true,
              "mode": "immediate",
              "transition": {
               "duration": 0,
               "easing": "linear"
              }
             }
            ],
            "label": "1940",
            "method": "animate"
           },
           {
            "args": [
             [
              "1941"
             ],
             {
              "frame": {
               "duration": 0,
               "redraw": true
              },
              "fromcurrent": true,
              "mode": "immediate",
              "transition": {
               "duration": 0,
               "easing": "linear"
              }
             }
            ],
            "label": "1941",
            "method": "animate"
           },
           {
            "args": [
             [
              "1942"
             ],
             {
              "frame": {
               "duration": 0,
               "redraw": true
              },
              "fromcurrent": true,
              "mode": "immediate",
              "transition": {
               "duration": 0,
               "easing": "linear"
              }
             }
            ],
            "label": "1942",
            "method": "animate"
           },
           {
            "args": [
             [
              "1943"
             ],
             {
              "frame": {
               "duration": 0,
               "redraw": true
              },
              "fromcurrent": true,
              "mode": "immediate",
              "transition": {
               "duration": 0,
               "easing": "linear"
              }
             }
            ],
            "label": "1943",
            "method": "animate"
           },
           {
            "args": [
             [
              "1944"
             ],
             {
              "frame": {
               "duration": 0,
               "redraw": true
              },
              "fromcurrent": true,
              "mode": "immediate",
              "transition": {
               "duration": 0,
               "easing": "linear"
              }
             }
            ],
            "label": "1944",
            "method": "animate"
           },
           {
            "args": [
             [
              "1945"
             ],
             {
              "frame": {
               "duration": 0,
               "redraw": true
              },
              "fromcurrent": true,
              "mode": "immediate",
              "transition": {
               "duration": 0,
               "easing": "linear"
              }
             }
            ],
            "label": "1945",
            "method": "animate"
           },
           {
            "args": [
             [
              "1946"
             ],
             {
              "frame": {
               "duration": 0,
               "redraw": true
              },
              "fromcurrent": true,
              "mode": "immediate",
              "transition": {
               "duration": 0,
               "easing": "linear"
              }
             }
            ],
            "label": "1946",
            "method": "animate"
           },
           {
            "args": [
             [
              "1947"
             ],
             {
              "frame": {
               "duration": 0,
               "redraw": true
              },
              "fromcurrent": true,
              "mode": "immediate",
              "transition": {
               "duration": 0,
               "easing": "linear"
              }
             }
            ],
            "label": "1947",
            "method": "animate"
           },
           {
            "args": [
             [
              "1948"
             ],
             {
              "frame": {
               "duration": 0,
               "redraw": true
              },
              "fromcurrent": true,
              "mode": "immediate",
              "transition": {
               "duration": 0,
               "easing": "linear"
              }
             }
            ],
            "label": "1948",
            "method": "animate"
           },
           {
            "args": [
             [
              "1949"
             ],
             {
              "frame": {
               "duration": 0,
               "redraw": true
              },
              "fromcurrent": true,
              "mode": "immediate",
              "transition": {
               "duration": 0,
               "easing": "linear"
              }
             }
            ],
            "label": "1949",
            "method": "animate"
           },
           {
            "args": [
             [
              "1950"
             ],
             {
              "frame": {
               "duration": 0,
               "redraw": true
              },
              "fromcurrent": true,
              "mode": "immediate",
              "transition": {
               "duration": 0,
               "easing": "linear"
              }
             }
            ],
            "label": "1950",
            "method": "animate"
           },
           {
            "args": [
             [
              "1951"
             ],
             {
              "frame": {
               "duration": 0,
               "redraw": true
              },
              "fromcurrent": true,
              "mode": "immediate",
              "transition": {
               "duration": 0,
               "easing": "linear"
              }
             }
            ],
            "label": "1951",
            "method": "animate"
           },
           {
            "args": [
             [
              "1952"
             ],
             {
              "frame": {
               "duration": 0,
               "redraw": true
              },
              "fromcurrent": true,
              "mode": "immediate",
              "transition": {
               "duration": 0,
               "easing": "linear"
              }
             }
            ],
            "label": "1952",
            "method": "animate"
           },
           {
            "args": [
             [
              "1953"
             ],
             {
              "frame": {
               "duration": 0,
               "redraw": true
              },
              "fromcurrent": true,
              "mode": "immediate",
              "transition": {
               "duration": 0,
               "easing": "linear"
              }
             }
            ],
            "label": "1953",
            "method": "animate"
           },
           {
            "args": [
             [
              "1954"
             ],
             {
              "frame": {
               "duration": 0,
               "redraw": true
              },
              "fromcurrent": true,
              "mode": "immediate",
              "transition": {
               "duration": 0,
               "easing": "linear"
              }
             }
            ],
            "label": "1954",
            "method": "animate"
           },
           {
            "args": [
             [
              "1955"
             ],
             {
              "frame": {
               "duration": 0,
               "redraw": true
              },
              "fromcurrent": true,
              "mode": "immediate",
              "transition": {
               "duration": 0,
               "easing": "linear"
              }
             }
            ],
            "label": "1955",
            "method": "animate"
           },
           {
            "args": [
             [
              "1956"
             ],
             {
              "frame": {
               "duration": 0,
               "redraw": true
              },
              "fromcurrent": true,
              "mode": "immediate",
              "transition": {
               "duration": 0,
               "easing": "linear"
              }
             }
            ],
            "label": "1956",
            "method": "animate"
           },
           {
            "args": [
             [
              "1957"
             ],
             {
              "frame": {
               "duration": 0,
               "redraw": true
              },
              "fromcurrent": true,
              "mode": "immediate",
              "transition": {
               "duration": 0,
               "easing": "linear"
              }
             }
            ],
            "label": "1957",
            "method": "animate"
           },
           {
            "args": [
             [
              "1958"
             ],
             {
              "frame": {
               "duration": 0,
               "redraw": true
              },
              "fromcurrent": true,
              "mode": "immediate",
              "transition": {
               "duration": 0,
               "easing": "linear"
              }
             }
            ],
            "label": "1958",
            "method": "animate"
           },
           {
            "args": [
             [
              "1959"
             ],
             {
              "frame": {
               "duration": 0,
               "redraw": true
              },
              "fromcurrent": true,
              "mode": "immediate",
              "transition": {
               "duration": 0,
               "easing": "linear"
              }
             }
            ],
            "label": "1959",
            "method": "animate"
           },
           {
            "args": [
             [
              "1960"
             ],
             {
              "frame": {
               "duration": 0,
               "redraw": true
              },
              "fromcurrent": true,
              "mode": "immediate",
              "transition": {
               "duration": 0,
               "easing": "linear"
              }
             }
            ],
            "label": "1960",
            "method": "animate"
           }
          ],
          "x": 0.1,
          "xanchor": "left",
          "y": 0,
          "yanchor": "top"
         }
        ],
        "template": {
         "data": {
          "bar": [
           {
            "error_x": {
             "color": "#2a3f5f"
            },
            "error_y": {
             "color": "#2a3f5f"
            },
            "marker": {
             "line": {
              "color": "#E5ECF6",
              "width": 0.5
             },
             "pattern": {
              "fillmode": "overlay",
              "size": 10,
              "solidity": 0.2
             }
            },
            "type": "bar"
           }
          ],
          "barpolar": [
           {
            "marker": {
             "line": {
              "color": "#E5ECF6",
              "width": 0.5
             },
             "pattern": {
              "fillmode": "overlay",
              "size": 10,
              "solidity": 0.2
             }
            },
            "type": "barpolar"
           }
          ],
          "carpet": [
           {
            "aaxis": {
             "endlinecolor": "#2a3f5f",
             "gridcolor": "white",
             "linecolor": "white",
             "minorgridcolor": "white",
             "startlinecolor": "#2a3f5f"
            },
            "baxis": {
             "endlinecolor": "#2a3f5f",
             "gridcolor": "white",
             "linecolor": "white",
             "minorgridcolor": "white",
             "startlinecolor": "#2a3f5f"
            },
            "type": "carpet"
           }
          ],
          "choropleth": [
           {
            "colorbar": {
             "outlinewidth": 0,
             "ticks": ""
            },
            "type": "choropleth"
           }
          ],
          "contour": [
           {
            "colorbar": {
             "outlinewidth": 0,
             "ticks": ""
            },
            "colorscale": [
             [
              0,
              "#0d0887"
             ],
             [
              0.1111111111111111,
              "#46039f"
             ],
             [
              0.2222222222222222,
              "#7201a8"
             ],
             [
              0.3333333333333333,
              "#9c179e"
             ],
             [
              0.4444444444444444,
              "#bd3786"
             ],
             [
              0.5555555555555556,
              "#d8576b"
             ],
             [
              0.6666666666666666,
              "#ed7953"
             ],
             [
              0.7777777777777778,
              "#fb9f3a"
             ],
             [
              0.8888888888888888,
              "#fdca26"
             ],
             [
              1,
              "#f0f921"
             ]
            ],
            "type": "contour"
           }
          ],
          "contourcarpet": [
           {
            "colorbar": {
             "outlinewidth": 0,
             "ticks": ""
            },
            "type": "contourcarpet"
           }
          ],
          "heatmap": [
           {
            "colorbar": {
             "outlinewidth": 0,
             "ticks": ""
            },
            "colorscale": [
             [
              0,
              "#0d0887"
             ],
             [
              0.1111111111111111,
              "#46039f"
             ],
             [
              0.2222222222222222,
              "#7201a8"
             ],
             [
              0.3333333333333333,
              "#9c179e"
             ],
             [
              0.4444444444444444,
              "#bd3786"
             ],
             [
              0.5555555555555556,
              "#d8576b"
             ],
             [
              0.6666666666666666,
              "#ed7953"
             ],
             [
              0.7777777777777778,
              "#fb9f3a"
             ],
             [
              0.8888888888888888,
              "#fdca26"
             ],
             [
              1,
              "#f0f921"
             ]
            ],
            "type": "heatmap"
           }
          ],
          "heatmapgl": [
           {
            "colorbar": {
             "outlinewidth": 0,
             "ticks": ""
            },
            "colorscale": [
             [
              0,
              "#0d0887"
             ],
             [
              0.1111111111111111,
              "#46039f"
             ],
             [
              0.2222222222222222,
              "#7201a8"
             ],
             [
              0.3333333333333333,
              "#9c179e"
             ],
             [
              0.4444444444444444,
              "#bd3786"
             ],
             [
              0.5555555555555556,
              "#d8576b"
             ],
             [
              0.6666666666666666,
              "#ed7953"
             ],
             [
              0.7777777777777778,
              "#fb9f3a"
             ],
             [
              0.8888888888888888,
              "#fdca26"
             ],
             [
              1,
              "#f0f921"
             ]
            ],
            "type": "heatmapgl"
           }
          ],
          "histogram": [
           {
            "marker": {
             "pattern": {
              "fillmode": "overlay",
              "size": 10,
              "solidity": 0.2
             }
            },
            "type": "histogram"
           }
          ],
          "histogram2d": [
           {
            "colorbar": {
             "outlinewidth": 0,
             "ticks": ""
            },
            "colorscale": [
             [
              0,
              "#0d0887"
             ],
             [
              0.1111111111111111,
              "#46039f"
             ],
             [
              0.2222222222222222,
              "#7201a8"
             ],
             [
              0.3333333333333333,
              "#9c179e"
             ],
             [
              0.4444444444444444,
              "#bd3786"
             ],
             [
              0.5555555555555556,
              "#d8576b"
             ],
             [
              0.6666666666666666,
              "#ed7953"
             ],
             [
              0.7777777777777778,
              "#fb9f3a"
             ],
             [
              0.8888888888888888,
              "#fdca26"
             ],
             [
              1,
              "#f0f921"
             ]
            ],
            "type": "histogram2d"
           }
          ],
          "histogram2dcontour": [
           {
            "colorbar": {
             "outlinewidth": 0,
             "ticks": ""
            },
            "colorscale": [
             [
              0,
              "#0d0887"
             ],
             [
              0.1111111111111111,
              "#46039f"
             ],
             [
              0.2222222222222222,
              "#7201a8"
             ],
             [
              0.3333333333333333,
              "#9c179e"
             ],
             [
              0.4444444444444444,
              "#bd3786"
             ],
             [
              0.5555555555555556,
              "#d8576b"
             ],
             [
              0.6666666666666666,
              "#ed7953"
             ],
             [
              0.7777777777777778,
              "#fb9f3a"
             ],
             [
              0.8888888888888888,
              "#fdca26"
             ],
             [
              1,
              "#f0f921"
             ]
            ],
            "type": "histogram2dcontour"
           }
          ],
          "mesh3d": [
           {
            "colorbar": {
             "outlinewidth": 0,
             "ticks": ""
            },
            "type": "mesh3d"
           }
          ],
          "parcoords": [
           {
            "line": {
             "colorbar": {
              "outlinewidth": 0,
              "ticks": ""
             }
            },
            "type": "parcoords"
           }
          ],
          "pie": [
           {
            "automargin": true,
            "type": "pie"
           }
          ],
          "scatter": [
           {
            "fillpattern": {
             "fillmode": "overlay",
             "size": 10,
             "solidity": 0.2
            },
            "type": "scatter"
           }
          ],
          "scatter3d": [
           {
            "line": {
             "colorbar": {
              "outlinewidth": 0,
              "ticks": ""
             }
            },
            "marker": {
             "colorbar": {
              "outlinewidth": 0,
              "ticks": ""
             }
            },
            "type": "scatter3d"
           }
          ],
          "scattercarpet": [
           {
            "marker": {
             "colorbar": {
              "outlinewidth": 0,
              "ticks": ""
             }
            },
            "type": "scattercarpet"
           }
          ],
          "scattergeo": [
           {
            "marker": {
             "colorbar": {
              "outlinewidth": 0,
              "ticks": ""
             }
            },
            "type": "scattergeo"
           }
          ],
          "scattergl": [
           {
            "marker": {
             "colorbar": {
              "outlinewidth": 0,
              "ticks": ""
             }
            },
            "type": "scattergl"
           }
          ],
          "scattermapbox": [
           {
            "marker": {
             "colorbar": {
              "outlinewidth": 0,
              "ticks": ""
             }
            },
            "type": "scattermapbox"
           }
          ],
          "scatterpolar": [
           {
            "marker": {
             "colorbar": {
              "outlinewidth": 0,
              "ticks": ""
             }
            },
            "type": "scatterpolar"
           }
          ],
          "scatterpolargl": [
           {
            "marker": {
             "colorbar": {
              "outlinewidth": 0,
              "ticks": ""
             }
            },
            "type": "scatterpolargl"
           }
          ],
          "scatterternary": [
           {
            "marker": {
             "colorbar": {
              "outlinewidth": 0,
              "ticks": ""
             }
            },
            "type": "scatterternary"
           }
          ],
          "surface": [
           {
            "colorbar": {
             "outlinewidth": 0,
             "ticks": ""
            },
            "colorscale": [
             [
              0,
              "#0d0887"
             ],
             [
              0.1111111111111111,
              "#46039f"
             ],
             [
              0.2222222222222222,
              "#7201a8"
             ],
             [
              0.3333333333333333,
              "#9c179e"
             ],
             [
              0.4444444444444444,
              "#bd3786"
             ],
             [
              0.5555555555555556,
              "#d8576b"
             ],
             [
              0.6666666666666666,
              "#ed7953"
             ],
             [
              0.7777777777777778,
              "#fb9f3a"
             ],
             [
              0.8888888888888888,
              "#fdca26"
             ],
             [
              1,
              "#f0f921"
             ]
            ],
            "type": "surface"
           }
          ],
          "table": [
           {
            "cells": {
             "fill": {
              "color": "#EBF0F8"
             },
             "line": {
              "color": "white"
             }
            },
            "header": {
             "fill": {
              "color": "#C8D4E3"
             },
             "line": {
              "color": "white"
             }
            },
            "type": "table"
           }
          ]
         },
         "layout": {
          "annotationdefaults": {
           "arrowcolor": "#2a3f5f",
           "arrowhead": 0,
           "arrowwidth": 1
          },
          "autotypenumbers": "strict",
          "coloraxis": {
           "colorbar": {
            "outlinewidth": 0,
            "ticks": ""
           }
          },
          "colorscale": {
           "diverging": [
            [
             0,
             "#8e0152"
            ],
            [
             0.1,
             "#c51b7d"
            ],
            [
             0.2,
             "#de77ae"
            ],
            [
             0.3,
             "#f1b6da"
            ],
            [
             0.4,
             "#fde0ef"
            ],
            [
             0.5,
             "#f7f7f7"
            ],
            [
             0.6,
             "#e6f5d0"
            ],
            [
             0.7,
             "#b8e186"
            ],
            [
             0.8,
             "#7fbc41"
            ],
            [
             0.9,
             "#4d9221"
            ],
            [
             1,
             "#276419"
            ]
           ],
           "sequential": [
            [
             0,
             "#0d0887"
            ],
            [
             0.1111111111111111,
             "#46039f"
            ],
            [
             0.2222222222222222,
             "#7201a8"
            ],
            [
             0.3333333333333333,
             "#9c179e"
            ],
            [
             0.4444444444444444,
             "#bd3786"
            ],
            [
             0.5555555555555556,
             "#d8576b"
            ],
            [
             0.6666666666666666,
             "#ed7953"
            ],
            [
             0.7777777777777778,
             "#fb9f3a"
            ],
            [
             0.8888888888888888,
             "#fdca26"
            ],
            [
             1,
             "#f0f921"
            ]
           ],
           "sequentialminus": [
            [
             0,
             "#0d0887"
            ],
            [
             0.1111111111111111,
             "#46039f"
            ],
            [
             0.2222222222222222,
             "#7201a8"
            ],
            [
             0.3333333333333333,
             "#9c179e"
            ],
            [
             0.4444444444444444,
             "#bd3786"
            ],
            [
             0.5555555555555556,
             "#d8576b"
            ],
            [
             0.6666666666666666,
             "#ed7953"
            ],
            [
             0.7777777777777778,
             "#fb9f3a"
            ],
            [
             0.8888888888888888,
             "#fdca26"
            ],
            [
             1,
             "#f0f921"
            ]
           ]
          },
          "colorway": [
           "#636efa",
           "#EF553B",
           "#00cc96",
           "#ab63fa",
           "#FFA15A",
           "#19d3f3",
           "#FF6692",
           "#B6E880",
           "#FF97FF",
           "#FECB52"
          ],
          "font": {
           "color": "#2a3f5f"
          },
          "geo": {
           "bgcolor": "white",
           "lakecolor": "white",
           "landcolor": "#E5ECF6",
           "showlakes": true,
           "showland": true,
           "subunitcolor": "white"
          },
          "hoverlabel": {
           "align": "left"
          },
          "hovermode": "closest",
          "mapbox": {
           "style": "light"
          },
          "paper_bgcolor": "white",
          "plot_bgcolor": "#E5ECF6",
          "polar": {
           "angularaxis": {
            "gridcolor": "white",
            "linecolor": "white",
            "ticks": ""
           },
           "bgcolor": "#E5ECF6",
           "radialaxis": {
            "gridcolor": "white",
            "linecolor": "white",
            "ticks": ""
           }
          },
          "scene": {
           "xaxis": {
            "backgroundcolor": "#E5ECF6",
            "gridcolor": "white",
            "gridwidth": 2,
            "linecolor": "white",
            "showbackground": true,
            "ticks": "",
            "zerolinecolor": "white"
           },
           "yaxis": {
            "backgroundcolor": "#E5ECF6",
            "gridcolor": "white",
            "gridwidth": 2,
            "linecolor": "white",
            "showbackground": true,
            "ticks": "",
            "zerolinecolor": "white"
           },
           "zaxis": {
            "backgroundcolor": "#E5ECF6",
            "gridcolor": "white",
            "gridwidth": 2,
            "linecolor": "white",
            "showbackground": true,
            "ticks": "",
            "zerolinecolor": "white"
           }
          },
          "shapedefaults": {
           "line": {
            "color": "#2a3f5f"
           }
          },
          "ternary": {
           "aaxis": {
            "gridcolor": "white",
            "linecolor": "white",
            "ticks": ""
           },
           "baxis": {
            "gridcolor": "white",
            "linecolor": "white",
            "ticks": ""
           },
           "bgcolor": "#E5ECF6",
           "caxis": {
            "gridcolor": "white",
            "linecolor": "white",
            "ticks": ""
           }
          },
          "title": {
           "x": 0.05
          },
          "xaxis": {
           "automargin": true,
           "gridcolor": "white",
           "linecolor": "white",
           "ticks": "",
           "title": {
            "standoff": 15
           },
           "zerolinecolor": "white",
           "zerolinewidth": 2
          },
          "yaxis": {
           "automargin": true,
           "gridcolor": "white",
           "linecolor": "white",
           "ticks": "",
           "title": {
            "standoff": 15
           },
           "zerolinecolor": "white",
           "zerolinewidth": 2
          }
         }
        },
        "title": {
         "text": "Total Deaths and Death Rate Change by Country and Year"
        },
        "updatemenus": [
         {
          "active": 0,
          "buttons": [
           {
            "args": [
             null,
             {
              "frame": {
               "duration": 1000,
               "redraw": true
              },
              "fromcurrent": true,
              "mode": "immediate",
              "transition": {
               "duration": 500,
               "easing": "linear"
              }
             }
            ],
            "label": "&#9654;",
            "method": "animate"
           },
           {
            "args": [
             [
              null
             ],
             {
              "frame": {
               "duration": 0,
               "redraw": true
              },
              "fromcurrent": true,
              "mode": "immediate",
              "transition": {
               "duration": 0,
               "easing": "linear"
              }
             }
            ],
            "label": "&#9724;",
            "method": "animate"
           }
          ],
          "direction": "left",
          "pad": {
           "r": 10,
           "t": 70
          },
          "showactive": false,
          "type": "buttons",
          "x": 0.1,
          "xanchor": "right",
          "y": 0,
          "yanchor": "top"
         }
        ],
        "width": 1000
       }
      },
      "image/png": "[encoded data removed]",
      "text/html": [
       "<div>                            <div id=\"cf5b90d9-dba6-4f3b-b8d0-0bca91c6f28c\" class=\"plotly-graph-div\" style=\"height:600px; width:1000px;\"></div>            <script type=\"text/javascript\">                require([\"plotly\"], function(Plotly) {                    window.PLOTLYENV=window.PLOTLYENV || {};                                    if (document.getElementById(\"cf5b90d9-dba6-4f3b-b8d0-0bca91c6f28c\")) {                    Plotly.newPlot(                        \"cf5b90d9-dba6-4f3b-b8d0-0bca91c6f28c\",                        [{\"customdata\":[[35184.0],[707919.0],[681459.0],[455036.0],[56498.0]],\"geo\":\"geo\",\"hovertemplate\":\"<b>%{hovertext}</b><br><br>Year=1910<br>Total=%{customdata[0]}<br>Country=%{location}<br>Change=%{marker.color}<extra></extra>\",\"hovertext\":[\"Denmark\",\"France\",\"Italy\",\"Spain\",\"Switzerland\"],\"legendgroup\":\"\",\"locationmode\":\"country names\",\"locations\":[\"Denmark\",\"France\",\"Italy\",\"Spain\",\"Switzerland\"],\"marker\":{\"color\":[null,null,null,null,null],\"coloraxis\":\"coloraxis\",\"size\":[35184.0,707919.0,681459.0,455036.0,56498.0],\"sizemode\":\"area\",\"sizeref\":131.52359099999998,\"symbol\":\"circle\",\"line\":{\"color\":\"gray\",\"width\":1}},\"mode\":\"markers\",\"name\":\"\",\"showlegend\":false,\"type\":\"scattergeo\"},{\"lat\":[46.8182],\"lon\":[8.2275],\"mode\":\"text\",\"showlegend\":false,\"text\":[\"Switzerland\"],\"textfont\":{\"color\":\"black\",\"size\":12},\"type\":\"scattergeo\",\"marker\":{\"line\":{\"color\":\"gray\",\"width\":1}}},{\"lat\":[56.2639],\"lon\":[9.5018],\"mode\":\"text\",\"showlegend\":false,\"text\":[\"Denmark\"],\"textfont\":{\"color\":\"black\",\"size\":12},\"type\":\"scattergeo\",\"marker\":{\"line\":{\"color\":\"gray\",\"width\":1}}},{\"lat\":[40.4637],\"lon\":[-3.7492],\"mode\":\"text\",\"showlegend\":false,\"text\":[\"Spain\"],\"textfont\":{\"color\":\"black\",\"size\":12},\"type\":\"scattergeo\",\"marker\":{\"line\":{\"color\":\"gray\",\"width\":1}}},{\"lat\":[46.603354],\"lon\":[1.888334],\"mode\":\"text\",\"showlegend\":false,\"text\":[\"France\"],\"textfont\":{\"color\":\"black\",\"size\":12},\"type\":\"scattergeo\",\"marker\":{\"line\":{\"color\":\"gray\",\"width\":1}}},{\"lat\":[41.8719],\"lon\":[12.5674],\"mode\":\"text\",\"showlegend\":false,\"text\":[\"Italy\"],\"textfont\":{\"color\":\"black\",\"size\":12},\"type\":\"scattergeo\",\"marker\":{\"line\":{\"color\":\"gray\",\"width\":1}}}],                        {\"template\":{\"data\":{\"histogram2dcontour\":[{\"type\":\"histogram2dcontour\",\"colorbar\":{\"outlinewidth\":0,\"ticks\":\"\"},\"colorscale\":[[0.0,\"#0d0887\"],[0.1111111111111111,\"#46039f\"],[0.2222222222222222,\"#7201a8\"],[0.3333333333333333,\"#9c179e\"],[0.4444444444444444,\"#bd3786\"],[0.5555555555555556,\"#d8576b\"],[0.6666666666666666,\"#ed7953\"],[0.7777777777777778,\"#fb9f3a\"],[0.8888888888888888,\"#fdca26\"],[1.0,\"#f0f921\"]]}],\"choropleth\":[{\"type\":\"choropleth\",\"colorbar\":{\"outlinewidth\":0,\"ticks\":\"\"}}],\"histogram2d\":[{\"type\":\"histogram2d\",\"colorbar\":{\"outlinewidth\":0,\"ticks\":\"\"},\"colorscale\":[[0.0,\"#0d0887\"],[0.1111111111111111,\"#46039f\"],[0.2222222222222222,\"#7201a8\"],[0.3333333333333333,\"#9c179e\"],[0.4444444444444444,\"#bd3786\"],[0.5555555555555556,\"#d8576b\"],[0.6666666666666666,\"#ed7953\"],[0.7777777777777778,\"#fb9f3a\"],[0.8888888888888888,\"#fdca26\"],[1.0,\"#f0f921\"]]}],\"heatmap\":[{\"type\":\"heatmap\",\"colorbar\":{\"outlinewidth\":0,\"ticks\":\"\"},\"colorscale\":[[0.0,\"#0d0887\"],[0.1111111111111111,\"#46039f\"],[0.2222222222222222,\"#7201a8\"],[0.3333333333333333,\"#9c179e\"],[0.4444444444444444,\"#bd3786\"],[0.5555555555555556,\"#d8576b\"],[0.6666666666666666,\"#ed7953\"],[0.7777777777777778,\"#fb9f3a\"],[0.8888888888888888,\"#fdca26\"],[1.0,\"#f0f921\"]]}],\"heatmapgl\":[{\"type\":\"heatmapgl\",\"colorbar\":{\"outlinewidth\":0,\"ticks\":\"\"},\"colorscale\":[[0.0,\"#0d0887\"],[0.1111111111111111,\"#46039f\"],[0.2222222222222222,\"#7201a8\"],[0.3333333333333333,\"#9c179e\"],[0.4444444444444444,\"#bd3786\"],[0.5555555555555556,\"#d8576b\"],[0.6666666666666666,\"#ed7953\"],[0.7777777777777778,\"#fb9f3a\"],[0.8888888888888888,\"#fdca26\"],[1.0,\"#f0f921\"]]}],\"contourcarpet\":[{\"type\":\"contourcarpet\",\"colorbar\":{\"outlinewidth\":0,\"ticks\":\"\"}}],\"contour\":[{\"type\":\"contour\",\"colorbar\":{\"outlinewidth\":0,\"ticks\":\"\"},\"colorscale\":[[0.0,\"#0d0887\"],[0.1111111111111111,\"#46039f\"],[0.2222222222222222,\"#7201a8\"],[0.3333333333333333,\"#9c179e\"],[0.4444444444444444,\"#bd3786\"],[0.5555555555555556,\"#d8576b\"],[0.6666666666666666,\"#ed7953\"],[0.7777777777777778,\"#fb9f3a\"],[0.8888888888888888,\"#fdca26\"],[1.0,\"#f0f921\"]]}],\"surface\":[{\"type\":\"surface\",\"colorbar\":{\"outlinewidth\":0,\"ticks\":\"\"},\"colorscale\":[[0.0,\"#0d0887\"],[0.1111111111111111,\"#46039f\"],[0.2222222222222222,\"#7201a8\"],[0.3333333333333333,\"#9c179e\"],[0.4444444444444444,\"#bd3786\"],[0.5555555555555556,\"#d8576b\"],[0.6666666666666666,\"#ed7953\"],[0.7777777777777778,\"#fb9f3a\"],[0.8888888888888888,\"#fdca26\"],[1.0,\"#f0f921\"]]}],\"mesh3d\":[{\"type\":\"mesh3d\",\"colorbar\":{\"outlinewidth\":0,\"ticks\":\"\"}}],\"scatter\":[{\"fillpattern\":{\"fillmode\":\"overlay\",\"size\":10,\"solidity\":0.2},\"type\":\"scatter\"}],\"parcoords\":[{\"type\":\"parcoords\",\"line\":{\"colorbar\":{\"outlinewidth\":0,\"ticks\":\"\"}}}],\"scatterpolargl\":[{\"type\":\"scatterpolargl\",\"marker\":{\"colorbar\":{\"outlinewidth\":0,\"ticks\":\"\"}}}],\"bar\":[{\"error_x\":{\"color\":\"#2a3f5f\"},\"error_y\":{\"color\":\"#2a3f5f\"},\"marker\":{\"line\":{\"color\":\"#E5ECF6\",\"width\":0.5},\"pattern\":{\"fillmode\":\"overlay\",\"size\":10,\"solidity\":0.2}},\"type\":\"bar\"}],\"scattergeo\":[{\"type\":\"scattergeo\",\"marker\":{\"colorbar\":{\"outlinewidth\":0,\"ticks\":\"\"}}}],\"scatterpolar\":[{\"type\":\"scatterpolar\",\"marker\":{\"colorbar\":{\"outlinewidth\":0,\"ticks\":\"\"}}}],\"histogram\":[{\"marker\":{\"pattern\":{\"fillmode\":\"overlay\",\"size\":10,\"solidity\":0.2}},\"type\":\"histogram\"}],\"scattergl\":[{\"type\":\"scattergl\",\"marker\":{\"colorbar\":{\"outlinewidth\":0,\"ticks\":\"\"}}}],\"scatter3d\":[{\"type\":\"scatter3d\",\"line\":{\"colorbar\":{\"outlinewidth\":0,\"ticks\":\"\"}},\"marker\":{\"colorbar\":{\"outlinewidth\":0,\"ticks\":\"\"}}}],\"scattermapbox\":[{\"type\":\"scattermapbox\",\"marker\":{\"colorbar\":{\"outlinewidth\":0,\"ticks\":\"\"}}}],\"scatterternary\":[{\"type\":\"scatterternary\",\"marker\":{\"colorbar\":{\"outlinewidth\":0,\"ticks\":\"\"}}}],\"scattercarpet\":[{\"type\":\"scattercarpet\",\"marker\":{\"colorbar\":{\"outlinewidth\":0,\"ticks\":\"\"}}}],\"carpet\":[{\"aaxis\":{\"endlinecolor\":\"#2a3f5f\",\"gridcolor\":\"white\",\"linecolor\":\"white\",\"minorgridcolor\":\"white\",\"startlinecolor\":\"#2a3f5f\"},\"baxis\":{\"endlinecolor\":\"#2a3f5f\",\"gridcolor\":\"white\",\"linecolor\":\"white\",\"minorgridcolor\":\"white\",\"startlinecolor\":\"#2a3f5f\"},\"type\":\"carpet\"}],\"table\":[{\"cells\":{\"fill\":{\"color\":\"#EBF0F8\"},\"line\":{\"color\":\"white\"}},\"header\":{\"fill\":{\"color\":\"#C8D4E3\"},\"line\":{\"color\":\"white\"}},\"type\":\"table\"}],\"barpolar\":[{\"marker\":{\"line\":{\"color\":\"#E5ECF6\",\"width\":0.5},\"pattern\":{\"fillmode\":\"overlay\",\"size\":10,\"solidity\":0.2}},\"type\":\"barpolar\"}],\"pie\":[{\"automargin\":true,\"type\":\"pie\"}]},\"layout\":{\"autotypenumbers\":\"strict\",\"colorway\":[\"#636efa\",\"#EF553B\",\"#00cc96\",\"#ab63fa\",\"#FFA15A\",\"#19d3f3\",\"#FF6692\",\"#B6E880\",\"#FF97FF\",\"#FECB52\"],\"font\":{\"color\":\"#2a3f5f\"},\"hovermode\":\"closest\",\"hoverlabel\":{\"align\":\"left\"},\"paper_bgcolor\":\"white\",\"plot_bgcolor\":\"#E5ECF6\",\"polar\":{\"bgcolor\":\"#E5ECF6\",\"angularaxis\":{\"gridcolor\":\"white\",\"linecolor\":\"white\",\"ticks\":\"\"},\"radialaxis\":{\"gridcolor\":\"white\",\"linecolor\":\"white\",\"ticks\":\"\"}},\"ternary\":{\"bgcolor\":\"#E5ECF6\",\"aaxis\":{\"gridcolor\":\"white\",\"linecolor\":\"white\",\"ticks\":\"\"},\"baxis\":{\"gridcolor\":\"white\",\"linecolor\":\"white\",\"ticks\":\"\"},\"caxis\":{\"gridcolor\":\"white\",\"linecolor\":\"white\",\"ticks\":\"\"}},\"coloraxis\":{\"colorbar\":{\"outlinewidth\":0,\"ticks\":\"\"}},\"colorscale\":{\"sequential\":[[0.0,\"#0d0887\"],[0.1111111111111111,\"#46039f\"],[0.2222222222222222,\"#7201a8\"],[0.3333333333333333,\"#9c179e\"],[0.4444444444444444,\"#bd3786\"],[0.5555555555555556,\"#d8576b\"],[0.6666666666666666,\"#ed7953\"],[0.7777777777777778,\"#fb9f3a\"],[0.8888888888888888,\"#fdca26\"],[1.0,\"#f0f921\"]],\"sequentialminus\":[[0.0,\"#0d0887\"],[0.1111111111111111,\"#46039f\"],[0.2222222222222222,\"#7201a8\"],[0.3333333333333333,\"#9c179e\"],[0.4444444444444444,\"#bd3786\"],[0.5555555555555556,\"#d8576b\"],[0.6666666666666666,\"#ed7953\"],[0.7777777777777778,\"#fb9f3a\"],[0.8888888888888888,\"#fdca26\"],[1.0,\"#f0f921\"]],\"diverging\":[[0,\"#8e0152\"],[0.1,\"#c51b7d\"],[0.2,\"#de77ae\"],[0.3,\"#f1b6da\"],[0.4,\"#fde0ef\"],[0.5,\"#f7f7f7\"],[0.6,\"#e6f5d0\"],[0.7,\"#b8e186\"],[0.8,\"#7fbc41\"],[0.9,\"#4d9221\"],[1,\"#276419\"]]},\"xaxis\":{\"gridcolor\":\"white\",\"linecolor\":\"white\",\"ticks\":\"\",\"title\":{\"standoff\":15},\"zerolinecolor\":\"white\",\"automargin\":true,\"zerolinewidth\":2},\"yaxis\":{\"gridcolor\":\"white\",\"linecolor\":\"white\",\"ticks\":\"\",\"title\":{\"standoff\":15},\"zerolinecolor\":\"white\",\"automargin\":true,\"zerolinewidth\":2},\"scene\":{\"xaxis\":{\"backgroundcolor\":\"#E5ECF6\",\"gridcolor\":\"white\",\"linecolor\":\"white\",\"showbackground\":true,\"ticks\":\"\",\"zerolinecolor\":\"white\",\"gridwidth\":2},\"yaxis\":{\"backgroundcolor\":\"#E5ECF6\",\"gridcolor\":\"white\",\"linecolor\":\"white\",\"showbackground\":true,\"ticks\":\"\",\"zerolinecolor\":\"white\",\"gridwidth\":2},\"zaxis\":{\"backgroundcolor\":\"#E5ECF6\",\"gridcolor\":\"white\",\"linecolor\":\"white\",\"showbackground\":true,\"ticks\":\"\",\"zerolinecolor\":\"white\",\"gridwidth\":2}},\"shapedefaults\":{\"line\":{\"color\":\"#2a3f5f\"}},\"annotationdefaults\":{\"arrowcolor\":\"#2a3f5f\",\"arrowhead\":0,\"arrowwidth\":1},\"geo\":{\"bgcolor\":\"white\",\"landcolor\":\"#E5ECF6\",\"subunitcolor\":\"white\",\"showland\":true,\"showlakes\":true,\"lakecolor\":\"white\"},\"title\":{\"x\":0.05},\"mapbox\":{\"style\":\"light\"}}},\"geo\":{\"domain\":{\"x\":[0.0,1.0],\"y\":[0.0,1.0]},\"projection\":{\"type\":\"natural earth\"},\"center\":{},\"scope\":\"europe\",\"lataxis\":{\"range\":[35,65]},\"lonaxis\":{\"range\":[-15,30]}},\"coloraxis\":{\"colorbar\":{\"title\":{\"text\":\"Change\"},\"tickfont\":{\"size\":10}},\"colorscale\":[[0.0,\"rgb(0,104,55)\"],[0.1,\"rgb(26,152,80)\"],[0.2,\"rgb(102,189,99)\"],[0.3,\"rgb(166,217,106)\"],[0.4,\"rgb(217,239,139)\"],[0.5,\"rgb(255,255,191)\"],[0.6,\"rgb(254,224,139)\"],[0.7,\"rgb(253,174,97)\"],[0.8,\"rgb(244,109,67)\"],[0.9,\"rgb(215,48,39)\"],[1.0,\"rgb(165,0,38)\"]],\"cmin\":-0.3,\"cmax\":0.3},\"legend\":{\"tracegroupgap\":0,\"itemsizing\":\"constant\"},\"title\":{\"text\":\"Total Deaths and Death Rate Change by Country and Year\"},\"updatemenus\":[{\"buttons\":[{\"args\":[null,{\"frame\":{\"duration\":1000,\"redraw\":true},\"mode\":\"immediate\",\"fromcurrent\":true,\"transition\":{\"duration\":500,\"easing\":\"linear\"}}],\"label\":\"&#9654;\",\"method\":\"animate\"},{\"args\":[[null],{\"frame\":{\"duration\":0,\"redraw\":true},\"mode\":\"immediate\",\"fromcurrent\":true,\"transition\":{\"duration\":0,\"easing\":\"linear\"}}],\"label\":\"&#9724;\",\"method\":\"animate\"}],\"direction\":\"left\",\"pad\":{\"r\":10,\"t\":70},\"showactive\":false,\"type\":\"buttons\",\"x\":0.1,\"xanchor\":\"right\",\"y\":0,\"yanchor\":\"top\"}],\"sliders\":[{\"active\":50,\"currentvalue\":{\"prefix\":\"Year=\"},\"len\":0.9,\"pad\":{\"b\":10,\"t\":60},\"steps\":[{\"args\":[[\"1910\"],{\"frame\":{\"duration\":0,\"redraw\":true},\"mode\":\"immediate\",\"fromcurrent\":true,\"transition\":{\"duration\":0,\"easing\":\"linear\"}}],\"label\":\"1910\",\"method\":\"animate\"},{\"args\":[[\"1911\"],{\"frame\":{\"duration\":0,\"redraw\":true},\"mode\":\"immediate\",\"fromcurrent\":true,\"transition\":{\"duration\":0,\"easing\":\"linear\"}}],\"label\":\"1911\",\"method\":\"animate\"},{\"args\":[[\"1912\"],{\"frame\":{\"duration\":0,\"redraw\":true},\"mode\":\"immediate\",\"fromcurrent\":true,\"transition\":{\"duration\":0,\"easing\":\"linear\"}}],\"label\":\"1912\",\"method\":\"animate\"},{\"args\":[[\"1913\"],{\"frame\":{\"duration\":0,\"redraw\":true},\"mode\":\"immediate\",\"fromcurrent\":true,\"transition\":{\"duration\":0,\"easing\":\"linear\"}}],\"label\":\"1913\",\"method\":\"animate\"},{\"args\":[[\"1914\"],{\"frame\":{\"duration\":0,\"redraw\":true},\"mode\":\"immediate\",\"fromcurrent\":true,\"transition\":{\"duration\":0,\"easing\":\"linear\"}}],\"label\":\"1914\",\"method\":\"animate\"},{\"args\":[[\"1915\"],{\"frame\":{\"duration\":0,\"redraw\":true},\"mode\":\"immediate\",\"fromcurrent\":true,\"transition\":{\"duration\":0,\"easing\":\"linear\"}}],\"label\":\"1915\",\"method\":\"animate\"},{\"args\":[[\"1916\"],{\"frame\":{\"duration\":0,\"redraw\":true},\"mode\":\"immediate\",\"fromcurrent\":true,\"transition\":{\"duration\":0,\"easing\":\"linear\"}}],\"label\":\"1916\",\"method\":\"animate\"},{\"args\":[[\"1917\"],{\"frame\":{\"duration\":0,\"redraw\":true},\"mode\":\"immediate\",\"fromcurrent\":true,\"transition\":{\"duration\":0,\"easing\":\"linear\"}}],\"label\":\"1917\",\"method\":\"animate\"},{\"args\":[[\"1918\"],{\"frame\":{\"duration\":0,\"redraw\":true},\"mode\":\"immediate\",\"fromcurrent\":true,\"transition\":{\"duration\":0,\"easing\":\"linear\"}}],\"label\":\"1918\",\"method\":\"animate\"},{\"args\":[[\"1919\"],{\"frame\":{\"duration\":0,\"redraw\":true},\"mode\":\"immediate\",\"fromcurrent\":true,\"transition\":{\"duration\":0,\"easing\":\"linear\"}}],\"label\":\"1919\",\"method\":\"animate\"},{\"args\":[[\"1920\"],{\"frame\":{\"duration\":0,\"redraw\":true},\"mode\":\"immediate\",\"fromcurrent\":true,\"transition\":{\"duration\":0,\"easing\":\"linear\"}}],\"label\":\"1920\",\"method\":\"animate\"},{\"args\":[[\"1921\"],{\"frame\":{\"duration\":0,\"redraw\":true},\"mode\":\"immediate\",\"fromcurrent\":true,\"transition\":{\"duration\":0,\"easing\":\"linear\"}}],\"label\":\"1921\",\"method\":\"animate\"},{\"args\":[[\"1922\"],{\"frame\":{\"duration\":0,\"redraw\":true},\"mode\":\"immediate\",\"fromcurrent\":true,\"transition\":{\"duration\":0,\"easing\":\"linear\"}}],\"label\":\"1922\",\"method\":\"animate\"},{\"args\":[[\"1923\"],{\"frame\":{\"duration\":0,\"redraw\":true},\"mode\":\"immediate\",\"fromcurrent\":true,\"transition\":{\"duration\":0,\"easing\":\"linear\"}}],\"label\":\"1923\",\"method\":\"animate\"},{\"args\":[[\"1924\"],{\"frame\":{\"duration\":0,\"redraw\":true},\"mode\":\"immediate\",\"fromcurrent\":true,\"transition\":{\"duration\":0,\"easing\":\"linear\"}}],\"label\":\"1924\",\"method\":\"animate\"},{\"args\":[[\"1925\"],{\"frame\":{\"duration\":0,\"redraw\":true},\"mode\":\"immediate\",\"fromcurrent\":true,\"transition\":{\"duration\":0,\"easing\":\"linear\"}}],\"label\":\"1925\",\"method\":\"animate\"},{\"args\":[[\"1926\"],{\"frame\":{\"duration\":0,\"redraw\":true},\"mode\":\"immediate\",\"fromcurrent\":true,\"transition\":{\"duration\":0,\"easing\":\"linear\"}}],\"label\":\"1926\",\"method\":\"animate\"},{\"args\":[[\"1927\"],{\"frame\":{\"duration\":0,\"redraw\":true},\"mode\":\"immediate\",\"fromcurrent\":true,\"transition\":{\"duration\":0,\"easing\":\"linear\"}}],\"label\":\"1927\",\"method\":\"animate\"},{\"args\":[[\"1928\"],{\"frame\":{\"duration\":0,\"redraw\":true},\"mode\":\"immediate\",\"fromcurrent\":true,\"transition\":{\"duration\":0,\"easing\":\"linear\"}}],\"label\":\"1928\",\"method\":\"animate\"},{\"args\":[[\"1929\"],{\"frame\":{\"duration\":0,\"redraw\":true},\"mode\":\"immediate\",\"fromcurrent\":true,\"transition\":{\"duration\":0,\"easing\":\"linear\"}}],\"label\":\"1929\",\"method\":\"animate\"},{\"args\":[[\"1930\"],{\"frame\":{\"duration\":0,\"redraw\":true},\"mode\":\"immediate\",\"fromcurrent\":true,\"transition\":{\"duration\":0,\"easing\":\"linear\"}}],\"label\":\"1930\",\"method\":\"animate\"},{\"args\":[[\"1931\"],{\"frame\":{\"duration\":0,\"redraw\":true},\"mode\":\"immediate\",\"fromcurrent\":true,\"transition\":{\"duration\":0,\"easing\":\"linear\"}}],\"label\":\"1931\",\"method\":\"animate\"},{\"args\":[[\"1932\"],{\"frame\":{\"duration\":0,\"redraw\":true},\"mode\":\"immediate\",\"fromcurrent\":true,\"transition\":{\"duration\":0,\"easing\":\"linear\"}}],\"label\":\"1932\",\"method\":\"animate\"},{\"args\":[[\"1933\"],{\"frame\":{\"duration\":0,\"redraw\":true},\"mode\":\"immediate\",\"fromcurrent\":true,\"transition\":{\"duration\":0,\"easing\":\"linear\"}}],\"label\":\"1933\",\"method\":\"animate\"},{\"args\":[[\"1934\"],{\"frame\":{\"duration\":0,\"redraw\":true},\"mode\":\"immediate\",\"fromcurrent\":true,\"transition\":{\"duration\":0,\"easing\":\"linear\"}}],\"label\":\"1934\",\"method\":\"animate\"},{\"args\":[[\"1935\"],{\"frame\":{\"duration\":0,\"redraw\":true},\"mode\":\"immediate\",\"fromcurrent\":true,\"transition\":{\"duration\":0,\"easing\":\"linear\"}}],\"label\":\"1935\",\"method\":\"animate\"},{\"args\":[[\"1936\"],{\"frame\":{\"duration\":0,\"redraw\":true},\"mode\":\"immediate\",\"fromcurrent\":true,\"transition\":{\"duration\":0,\"easing\":\"linear\"}}],\"label\":\"1936\",\"method\":\"animate\"},{\"args\":[[\"1937\"],{\"frame\":{\"duration\":0,\"redraw\":true},\"mode\":\"immediate\",\"fromcurrent\":true,\"transition\":{\"duration\":0,\"easing\":\"linear\"}}],\"label\":\"1937\",\"method\":\"animate\"},{\"args\":[[\"1938\"],{\"frame\":{\"duration\":0,\"redraw\":true},\"mode\":\"immediate\",\"fromcurrent\":true,\"transition\":{\"duration\":0,\"easing\":\"linear\"}}],\"label\":\"1938\",\"method\":\"animate\"},{\"args\":[[\"1939\"],{\"frame\":{\"duration\":0,\"redraw\":true},\"mode\":\"immediate\",\"fromcurrent\":true,\"transition\":{\"duration\":0,\"easing\":\"linear\"}}],\"label\":\"1939\",\"method\":\"animate\"},{\"args\":[[\"1940\"],{\"frame\":{\"duration\":0,\"redraw\":true},\"mode\":\"immediate\",\"fromcurrent\":true,\"transition\":{\"duration\":0,\"easing\":\"linear\"}}],\"label\":\"1940\",\"method\":\"animate\"},{\"args\":[[\"1941\"],{\"frame\":{\"duration\":0,\"redraw\":true},\"mode\":\"immediate\",\"fromcurrent\":true,\"transition\":{\"duration\":0,\"easing\":\"linear\"}}],\"label\":\"1941\",\"method\":\"animate\"},{\"args\":[[\"1942\"],{\"frame\":{\"duration\":0,\"redraw\":true},\"mode\":\"immediate\",\"fromcurrent\":true,\"transition\":{\"duration\":0,\"easing\":\"linear\"}}],\"label\":\"1942\",\"method\":\"animate\"},{\"args\":[[\"1943\"],{\"frame\":{\"duration\":0,\"redraw\":true},\"mode\":\"immediate\",\"fromcurrent\":true,\"transition\":{\"duration\":0,\"easing\":\"linear\"}}],\"label\":\"1943\",\"method\":\"animate\"},{\"args\":[[\"1944\"],{\"frame\":{\"duration\":0,\"redraw\":true},\"mode\":\"immediate\",\"fromcurrent\":true,\"transition\":{\"duration\":0,\"easing\":\"linear\"}}],\"label\":\"1944\",\"method\":\"animate\"},{\"args\":[[\"1945\"],{\"frame\":{\"duration\":0,\"redraw\":true},\"mode\":\"immediate\",\"fromcurrent\":true,\"transition\":{\"duration\":0,\"easing\":\"linear\"}}],\"label\":\"1945\",\"method\":\"animate\"},{\"args\":[[\"1946\"],{\"frame\":{\"duration\":0,\"redraw\":true},\"mode\":\"immediate\",\"fromcurrent\":true,\"transition\":{\"duration\":0,\"easing\":\"linear\"}}],\"label\":\"1946\",\"method\":\"animate\"},{\"args\":[[\"1947\"],{\"frame\":{\"duration\":0,\"redraw\":true},\"mode\":\"immediate\",\"fromcurrent\":true,\"transition\":{\"duration\":0,\"easing\":\"linear\"}}],\"label\":\"1947\",\"method\":\"animate\"},{\"args\":[[\"1948\"],{\"frame\":{\"duration\":0,\"redraw\":true},\"mode\":\"immediate\",\"fromcurrent\":true,\"transition\":{\"duration\":0,\"easing\":\"linear\"}}],\"label\":\"1948\",\"method\":\"animate\"},{\"args\":[[\"1949\"],{\"frame\":{\"duration\":0,\"redraw\":true},\"mode\":\"immediate\",\"fromcurrent\":true,\"transition\":{\"duration\":0,\"easing\":\"linear\"}}],\"label\":\"1949\",\"method\":\"animate\"},{\"args\":[[\"1950\"],{\"frame\":{\"duration\":0,\"redraw\":true},\"mode\":\"immediate\",\"fromcurrent\":true,\"transition\":{\"duration\":0,\"easing\":\"linear\"}}],\"label\":\"1950\",\"method\":\"animate\"},{\"args\":[[\"1951\"],{\"frame\":{\"duration\":0,\"redraw\":true},\"mode\":\"immediate\",\"fromcurrent\":true,\"transition\":{\"duration\":0,\"easing\":\"linear\"}}],\"label\":\"1951\",\"method\":\"animate\"},{\"args\":[[\"1952\"],{\"frame\":{\"duration\":0,\"redraw\":true},\"mode\":\"immediate\",\"fromcurrent\":true,\"transition\":{\"duration\":0,\"easing\":\"linear\"}}],\"label\":\"1952\",\"method\":\"animate\"},{\"args\":[[\"1953\"],{\"frame\":{\"duration\":0,\"redraw\":true},\"mode\":\"immediate\",\"fromcurrent\":true,\"transition\":{\"duration\":0,\"easing\":\"linear\"}}],\"label\":\"1953\",\"method\":\"animate\"},{\"args\":[[\"1954\"],{\"frame\":{\"duration\":0,\"redraw\":true},\"mode\":\"immediate\",\"fromcurrent\":true,\"transition\":{\"duration\":0,\"easing\":\"linear\"}}],\"label\":\"1954\",\"method\":\"animate\"},{\"args\":[[\"1955\"],{\"frame\":{\"duration\":0,\"redraw\":true},\"mode\":\"immediate\",\"fromcurrent\":true,\"transition\":{\"duration\":0,\"easing\":\"linear\"}}],\"label\":\"1955\",\"method\":\"animate\"},{\"args\":[[\"1956\"],{\"frame\":{\"duration\":0,\"redraw\":true},\"mode\":\"immediate\",\"fromcurrent\":true,\"transition\":{\"duration\":0,\"easing\":\"linear\"}}],\"label\":\"1956\",\"method\":\"animate\"},{\"args\":[[\"1957\"],{\"frame\":{\"duration\":0,\"redraw\":true},\"mode\":\"immediate\",\"fromcurrent\":true,\"transition\":{\"duration\":0,\"easing\":\"linear\"}}],\"label\":\"1957\",\"method\":\"animate\"},{\"args\":[[\"1958\"],{\"frame\":{\"duration\":0,\"redraw\":true},\"mode\":\"immediate\",\"fromcurrent\":true,\"transition\":{\"duration\":0,\"easing\":\"linear\"}}],\"label\":\"1958\",\"method\":\"animate\"},{\"args\":[[\"1959\"],{\"frame\":{\"duration\":0,\"redraw\":true},\"mode\":\"immediate\",\"fromcurrent\":true,\"transition\":{\"duration\":0,\"easing\":\"linear\"}}],\"label\":\"1959\",\"method\":\"animate\"},{\"args\":[[\"1960\"],{\"frame\":{\"duration\":0,\"redraw\":true},\"mode\":\"immediate\",\"fromcurrent\":true,\"transition\":{\"duration\":0,\"easing\":\"linear\"}}],\"label\":\"1960\",\"method\":\"animate\"}],\"x\":0.1,\"xanchor\":\"left\",\"y\":0,\"yanchor\":\"top\"}],\"height\":600,\"width\":1000},                        {\"responsive\": true}                    ).then(function(){\n",
       "                            Plotly.addFrames('cf5b90d9-dba6-4f3b-b8d0-0bca91c6f28c', [{\"data\":[{\"customdata\":[[35184.0],[707919.0],[681459.0],[455036.0],[56498.0]],\"geo\":\"geo\",\"hovertemplate\":\"<b>%{hovertext}</b><br><br>Year=1910<br>Total=%{customdata[0]}<br>Country=%{location}<br>Change=%{marker.color}<extra></extra>\",\"hovertext\":[\"Denmark\",\"France\",\"Italy\",\"Spain\",\"Switzerland\"],\"legendgroup\":\"\",\"locationmode\":\"country names\",\"locations\":[\"Denmark\",\"France\",\"Italy\",\"Spain\",\"Switzerland\"],\"marker\":{\"color\":[null,null,null,null,null],\"coloraxis\":\"coloraxis\",\"size\":[35184.0,707919.0,681459.0,455036.0,56498.0],\"sizemode\":\"area\",\"sizeref\":131.52359099999998,\"symbol\":\"circle\"},\"mode\":\"markers\",\"name\":\"\",\"showlegend\":false,\"type\":\"scattergeo\"}],\"name\":\"1910\"},{\"data\":[{\"customdata\":[[37192.0],[780114.0],[741469.0],[465413.0],[59619.0]],\"geo\":\"geo\",\"hovertemplate\":\"<b>%{hovertext}</b><br><br>Year=1911<br>Total=%{customdata[0]}<br>Country=%{location}<br>Change=%{marker.color}<extra></extra>\",\"hovertext\":[\"Denmark\",\"France\",\"Italy\",\"Spain\",\"Switzerland\"],\"legendgroup\":\"\",\"locationmode\":\"country names\",\"locations\":[\"Denmark\",\"France\",\"Italy\",\"Spain\",\"Switzerland\"],\"marker\":{\"color\":[0.057071396089131365,0.1019820064159882,0.08806105723161628,0.022804789071633857,0.05524089348295513],\"coloraxis\":\"coloraxis\",\"size\":[37192.0,780114.0,741469.0,465413.0,59619.0],\"sizemode\":\"area\",\"sizeref\":131.52359099999998,\"symbol\":\"circle\"},\"mode\":\"markers\",\"name\":\"\",\"showlegend\":false,\"type\":\"scattergeo\"}],\"name\":\"1911\"},{\"data\":[{\"customdata\":[[36433.0],[697139.0],[635179.0],[425041.0],[54102.0]],\"geo\":\"geo\",\"hovertemplate\":\"<b>%{hovertext}</b><br><br>Year=1912<br>Total=%{customdata[0]}<br>Country=%{location}<br>Change=%{marker.color}<extra></extra>\",\"hovertext\":[\"Denmark\",\"France\",\"Italy\",\"Spain\",\"Switzerland\"],\"legendgroup\":\"\",\"locationmode\":\"country names\",\"locations\":[\"Denmark\",\"France\",\"Italy\",\"Spain\",\"Switzerland\"],\"marker\":{\"color\":[-0.020407614540761454,-0.10636265981638582,-0.14335056489212628,-0.08674446137086844,-0.09253761384793435],\"coloraxis\":\"coloraxis\",\"size\":[36433.0,697139.0,635179.0,425041.0,54102.0],\"sizemode\":\"area\",\"sizeref\":131.52359099999998,\"symbol\":\"circle\"},\"mode\":\"markers\",\"name\":\"\",\"showlegend\":false,\"type\":\"scattergeo\"}],\"name\":\"1912\"},{\"data\":[{\"customdata\":[[35312.0],[706983.0],[663238.0],[448205.0],[55427.0]],\"geo\":\"geo\",\"hovertemplate\":\"<b>%{hovertext}</b><br><br>Year=1913<br>Total=%{customdata[0]}<br>Country=%{location}<br>Change=%{marker.color}<extra></extra>\",\"hovertext\":[\"Denmark\",\"France\",\"Italy\",\"Spain\",\"Switzerland\"],\"legendgroup\":\"\",\"locationmode\":\"country names\",\"locations\":[\"Denmark\",\"France\",\"Italy\",\"Spain\",\"Switzerland\"],\"marker\":{\"color\":[-0.030768808497790512,0.01412056992938271,0.044174949108833905,0.054498271931413766,0.024490776681083792],\"coloraxis\":\"coloraxis\",\"size\":[35312.0,706983.0,663238.0,448205.0,55427.0],\"sizemode\":\"area\",\"sizeref\":131.52359099999998,\"symbol\":\"circle\"},\"mode\":\"markers\",\"name\":\"\",\"showlegend\":false,\"type\":\"scattergeo\"}],\"name\":\"1913\"},{\"data\":[{\"customdata\":[[35861.0],[627395.0],[642983.0],[449179.0],[53629.0]],\"geo\":\"geo\",\"hovertemplate\":\"<b>%{hovertext}</b><br><br>Year=1914<br>Total=%{customdata[0]}<br>Country=%{location}<br>Change=%{marker.color}<extra></extra>\",\"hovertext\":[\"Denmark\",\"France\",\"Italy\",\"Spain\",\"Switzerland\"],\"legendgroup\":\"\",\"locationmode\":\"country names\",\"locations\":[\"Denmark\",\"France\",\"Italy\",\"Spain\",\"Switzerland\"],\"marker\":{\"color\":[0.01554712279111925,-0.1125741354459725,-0.030539564982706047,0.0021731127497461866,-0.03243906399408225],\"coloraxis\":\"coloraxis\",\"size\":[35861.0,627395.0,642983.0,449179.0,53629.0],\"sizemode\":\"area\",\"sizeref\":131.52359099999998,\"symbol\":\"circle\"},\"mode\":\"markers\",\"name\":\"\",\"showlegend\":false,\"type\":\"scattergeo\"}],\"name\":\"1914\"},{\"data\":[{\"customdata\":[[37124.0],[619529.0],[825556.04],[451275.0],[51524.0]],\"geo\":\"geo\",\"hovertemplate\":\"<b>%{hovertext}</b><br><br>Year=1915<br>Total=%{customdata[0]}<br>Country=%{location}<br>Change=%{marker.color}<extra></extra>\",\"hovertext\":[\"Denmark\",\"France\",\"Italy\",\"Spain\",\"Switzerland\"],\"legendgroup\":\"\",\"locationmode\":\"country names\",\"locations\":[\"Denmark\",\"France\",\"Italy\",\"Spain\",\"Switzerland\"],\"marker\":{\"color\":[0.03521931903739439,-0.012537556085082002,0.283946916170412,0.0046662911667731954,-0.03925115142926405],\"coloraxis\":\"coloraxis\",\"size\":[37124.0,619529.0,825556.04,451275.0,51524.0],\"sizemode\":\"area\",\"sizeref\":131.52359099999998,\"symbol\":\"circle\"},\"mode\":\"markers\",\"name\":\"\",\"showlegend\":false,\"type\":\"scattergeo\"}],\"name\":\"1915\"},{\"data\":[{\"customdata\":[[39201.0],[577047.0],[868639.03],[440328.0],[50623.0]],\"geo\":\"geo\",\"hovertemplate\":\"<b>%{hovertext}</b><br><br>Year=1916<br>Total=%{customdata[0]}<br>Country=%{location}<br>Change=%{marker.color}<extra></extra>\",\"hovertext\":[\"Denmark\",\"France\",\"Italy\",\"Spain\",\"Switzerland\"],\"legendgroup\":\"\",\"locationmode\":\"country names\",\"locations\":[\"Denmark\",\"France\",\"Italy\",\"Spain\",\"Switzerland\"],\"marker\":{\"color\":[0.05594763495313004,-0.06857144701862217,0.05218663290259484,-0.0242579358484295,-0.01748699635121498],\"coloraxis\":\"coloraxis\",\"size\":[39201.0,577047.0,868639.03,440328.0,50623.0],\"sizemode\":\"area\",\"sizeref\":131.52359099999998,\"symbol\":\"circle\"},\"mode\":\"markers\",\"name\":\"\",\"showlegend\":false,\"type\":\"scattergeo\"}],\"name\":\"1916\"},{\"data\":[{\"customdata\":[[39140.0],[584939.0],[890717.97],[464334.0],[53314.0]],\"geo\":\"geo\",\"hovertemplate\":\"<b>%{hovertext}</b><br><br>Year=1917<br>Total=%{customdata[0]}<br>Country=%{location}<br>Change=%{marker.color}<extra></extra>\",\"hovertext\":[\"Denmark\",\"France\",\"Italy\",\"Spain\",\"Switzerland\"],\"legendgroup\":\"\",\"locationmode\":\"country names\",\"locations\":[\"Denmark\",\"France\",\"Italy\",\"Spain\",\"Switzerland\"],\"marker\":{\"color\":[-0.001556082752991017,0.013676528948248556,0.025417853950219005,0.054518449882814624,0.05315765561108576],\"coloraxis\":\"coloraxis\",\"size\":[39140.0,584939.0,890717.97,464334.0,53314.0],\"sizemode\":\"area\",\"sizeref\":131.52359099999998,\"symbol\":\"circle\"},\"mode\":\"markers\",\"name\":\"\",\"showlegend\":false,\"type\":\"scattergeo\"}],\"name\":\"1917\"},{\"data\":[{\"customdata\":[[38984.0],[724803.0],[1315235.91],[693889.0],[75034.0]],\"geo\":\"geo\",\"hovertemplate\":\"<b>%{hovertext}</b><br><br>Year=1918<br>Total=%{customdata[0]}<br>Country=%{location}<br>Change=%{marker.color}<extra></extra>\",\"hovertext\":[\"Denmark\",\"France\",\"Italy\",\"Spain\",\"Switzerland\"],\"legendgroup\":\"\",\"locationmode\":\"country names\",\"locations\":[\"Denmark\",\"France\",\"Italy\",\"Spain\",\"Switzerland\"],\"marker\":{\"color\":[-0.003985692386305528,0.2391086933851223,0.47660197087973866,0.49437473887331107,0.40739768165960166],\"coloraxis\":\"coloraxis\",\"size\":[38984.0,724803.0,1315235.91,693889.0,75034.0],\"sizemode\":\"area\",\"sizeref\":131.52359099999998,\"symbol\":\"circle\"},\"mode\":\"markers\",\"name\":\"\",\"showlegend\":false,\"type\":\"scattergeo\"}],\"name\":\"1918\"},{\"data\":[{\"customdata\":[[39517.0],[618233.0],[732394.02],[481110.0],[54932.0]],\"geo\":\"geo\",\"hovertemplate\":\"<b>%{hovertext}</b><br><br>Year=1919<br>Total=%{customdata[0]}<br>Country=%{location}<br>Change=%{marker.color}<extra></extra>\",\"hovertext\":[\"Denmark\",\"France\",\"Italy\",\"Spain\",\"Switzerland\"],\"legendgroup\":\"\",\"locationmode\":\"country names\",\"locations\":[\"Denmark\",\"France\",\"Italy\",\"Spain\",\"Switzerland\"],\"marker\":{\"color\":[0.0136722758054586,-0.1470330558786318,-0.4431462717589576,-0.3066470285593229,-0.2679052163019431],\"coloraxis\":\"coloraxis\",\"size\":[39517.0,618233.0,732394.02,481110.0,54932.0],\"sizemode\":\"area\",\"sizeref\":131.52359099999998,\"symbol\":\"circle\"},\"mode\":\"markers\",\"name\":\"\",\"showlegend\":false,\"type\":\"scattergeo\"}],\"name\":\"1919\"},{\"data\":[{\"customdata\":[[39776.0],[675488.0],[687977.9],[493268.0],[55992.0]],\"geo\":\"geo\",\"hovertemplate\":\"<b>%{hovertext}</b><br><br>Year=1920<br>Total=%{customdata[0]}<br>Country=%{location}<br>Change=%{marker.color}<extra></extra>\",\"hovertext\":[\"Denmark\",\"France\",\"Italy\",\"Spain\",\"Switzerland\"],\"legendgroup\":\"\",\"locationmode\":\"country names\",\"locations\":[\"Denmark\",\"France\",\"Italy\",\"Spain\",\"Switzerland\"],\"marker\":{\"color\":[0.006554141255662227,0.0926107147305304,-0.06064511558955654,0.025270728107917195,0.01929658486856467],\"coloraxis\":\"coloraxis\",\"size\":[39776.0,675488.0,687977.9,493268.0,55992.0],\"sizemode\":\"area\",\"sizeref\":131.52359099999998,\"symbol\":\"circle\"},\"mode\":\"markers\",\"name\":\"\",\"showlegend\":false,\"type\":\"scattergeo\"}],\"name\":\"1920\"},{\"data\":[{\"customdata\":[[36096.0],[697843.0],[635268.0],[454099.0],[49518.0]],\"geo\":\"geo\",\"hovertemplate\":\"<b>%{hovertext}</b><br><br>Year=1921<br>Total=%{customdata[0]}<br>Country=%{location}<br>Change=%{marker.color}<extra></extra>\",\"hovertext\":[\"Denmark\",\"France\",\"Italy\",\"Spain\",\"Switzerland\"],\"legendgroup\":\"\",\"locationmode\":\"country names\",\"locations\":[\"Denmark\",\"France\",\"Italy\",\"Spain\",\"Switzerland\"],\"marker\":{\"color\":[-0.09251810136765892,0.033094592353972274,-0.0766156878004366,-0.07940713770202001,-0.11562366052293183],\"coloraxis\":\"coloraxis\",\"size\":[36096.0,697843.0,635268.0,454099.0,49518.0],\"sizemode\":\"area\",\"sizeref\":131.52359099999998,\"symbol\":\"circle\"},\"mode\":\"markers\",\"name\":\"\",\"showlegend\":false,\"type\":\"scattergeo\"}],\"name\":\"1921\"},{\"data\":[{\"customdata\":[[39335.0],[692170.0],[653024.0],[440319.0],[50292.0]],\"geo\":\"geo\",\"hovertemplate\":\"<b>%{hovertext}</b><br><br>Year=1922<br>Total=%{customdata[0]}<br>Country=%{location}<br>Change=%{marker.color}<extra></extra>\",\"hovertext\":[\"Denmark\",\"France\",\"Italy\",\"Spain\",\"Switzerland\"],\"legendgroup\":\"\",\"locationmode\":\"country names\",\"locations\":[\"Denmark\",\"France\",\"Italy\",\"Spain\",\"Switzerland\"],\"marker\":{\"color\":[0.08973293439716312,-0.008129335681521521,0.027950408331601784,-0.030345805650309754,0.015630679752817178],\"coloraxis\":\"coloraxis\",\"size\":[39335.0,692170.0,653024.0,440319.0,50292.0],\"sizemode\":\"area\",\"sizeref\":131.52359099999998,\"symbol\":\"circle\"},\"mode\":\"markers\",\"name\":\"\",\"showlegend\":false,\"type\":\"scattergeo\"}],\"name\":\"1922\"},{\"data\":[{\"customdata\":[[37810.0],[670281.0],[622098.0],[448684.0],[45983.0]],\"geo\":\"geo\",\"hovertemplate\":\"<b>%{hovertext}</b><br><br>Year=1923<br>Total=%{customdata[0]}<br>Country=%{location}<br>Change=%{marker.color}<extra></extra>\",\"hovertext\":[\"Denmark\",\"France\",\"Italy\",\"Spain\",\"Switzerland\"],\"legendgroup\":\"\",\"locationmode\":\"country names\",\"locations\":[\"Denmark\",\"France\",\"Italy\",\"Spain\",\"Switzerland\"],\"marker\":{\"color\":[-0.03876954366340413,-0.031623734053772945,-0.04735813691380408,0.018997590383335705,-0.08567963095522146],\"coloraxis\":\"coloraxis\",\"size\":[37810.0,670281.0,622098.0,448684.0,45983.0],\"sizemode\":\"area\",\"sizeref\":131.52359099999998,\"symbol\":\"circle\"},\"mode\":\"markers\",\"name\":\"\",\"showlegend\":false,\"type\":\"scattergeo\"}],\"name\":\"1923\"},{\"data\":[{\"customdata\":[[38017.0],[683202.0],[659693.0],[429484.0],[48988.0]],\"geo\":\"geo\",\"hovertemplate\":\"<b>%{hovertext}</b><br><br>Year=1924<br>Total=%{customdata[0]}<br>Country=%{location}<br>Change=%{marker.color}<extra></extra>\",\"hovertext\":[\"Denmark\",\"France\",\"Italy\",\"Spain\",\"Switzerland\"],\"legendgroup\":\"\",\"locationmode\":\"country names\",\"locations\":[\"Denmark\",\"France\",\"Italy\",\"Spain\",\"Switzerland\"],\"marker\":{\"color\":[0.005474742131711174,0.019276989799800415,0.06043260065134426,-0.04279180893457313,0.06535023813148344],\"coloraxis\":\"coloraxis\",\"size\":[38017.0,683202.0,659693.0,429484.0,48988.0],\"sizemode\":\"area\",\"sizeref\":131.52359099999998,\"symbol\":\"circle\"},\"mode\":\"markers\",\"name\":\"\",\"showlegend\":false,\"type\":\"scattergeo\"}],\"name\":\"1924\"},{\"data\":[{\"customdata\":[[37003.0],[712163.0],[667430.0],[431421.0],[47877.0]],\"geo\":\"geo\",\"hovertemplate\":\"<b>%{hovertext}</b><br><br>Year=1925<br>Total=%{customdata[0]}<br>Country=%{location}<br>Change=%{marker.color}<extra></extra>\",\"hovertext\":[\"Denmark\",\"France\",\"Italy\",\"Spain\",\"Switzerland\"],\"legendgroup\":\"\",\"locationmode\":\"country names\",\"locations\":[\"Denmark\",\"France\",\"Italy\",\"Spain\",\"Switzerland\"],\"marker\":{\"color\":[-0.02667227819133544,0.042390098389641695,0.011728182654659136,0.004510063238677198,-0.022679023434310497],\"coloraxis\":\"coloraxis\",\"size\":[37003.0,712163.0,667430.0,431421.0,47877.0],\"sizemode\":\"area\",\"sizeref\":131.52359099999998,\"symbol\":\"circle\"},\"mode\":\"markers\",\"name\":\"\",\"showlegend\":false,\"type\":\"scattergeo\"}],\"name\":\"1925\"},{\"data\":[{\"customdata\":[[38039.0],[716941.0],[679817.0],[419880.0],[46452.0]],\"geo\":\"geo\",\"hovertemplate\":\"<b>%{hovertext}</b><br><br>Year=1926<br>Total=%{customdata[0]}<br>Country=%{location}<br>Change=%{marker.color}<extra></extra>\",\"hovertext\":[\"Denmark\",\"France\",\"Italy\",\"Spain\",\"Switzerland\"],\"legendgroup\":\"\",\"locationmode\":\"country names\",\"locations\":[\"Denmark\",\"France\",\"Italy\",\"Spain\",\"Switzerland\"],\"marker\":{\"color\":[0.027997729913790792,0.00670913821695307,0.018559249659140242,-0.026751131725159416,-0.029763769659753136],\"coloraxis\":\"coloraxis\",\"size\":[38039.0,716941.0,679817.0,419880.0,46452.0],\"sizemode\":\"area\",\"sizeref\":131.52359099999998,\"symbol\":\"circle\"},\"mode\":\"markers\",\"name\":\"\",\"showlegend\":false,\"type\":\"scattergeo\"}],\"name\":\"1926\"},{\"data\":[{\"customdata\":[[40137.0],[679791.0],[639540.0],[419226.0],[49202.0]],\"geo\":\"geo\",\"hovertemplate\":\"<b>%{hovertext}</b><br><br>Year=1927<br>Total=%{customdata[0]}<br>Country=%{location}<br>Change=%{marker.color}<extra></extra>\",\"hovertext\":[\"Denmark\",\"France\",\"Italy\",\"Spain\",\"Switzerland\"],\"legendgroup\":\"\",\"locationmode\":\"country names\",\"locations\":[\"Denmark\",\"France\",\"Italy\",\"Spain\",\"Switzerland\"],\"marker\":{\"color\":[0.05515392097584049,-0.0518173740935447,-0.05924682671954362,-0.0015575878822520206,0.059200895548092713],\"coloraxis\":\"coloraxis\",\"size\":[40137.0,679791.0,639540.0,419226.0,49202.0],\"sizemode\":\"area\",\"sizeref\":131.52359099999998,\"symbol\":\"circle\"},\"mode\":\"markers\",\"name\":\"\",\"showlegend\":false,\"type\":\"scattergeo\"}],\"name\":\"1927\"},{\"data\":[{\"customdata\":[[38431.0],[678258.0],[645467.0],[412431.0],[48063.0]],\"geo\":\"geo\",\"hovertemplate\":\"<b>%{hovertext}</b><br><br>Year=1928<br>Total=%{customdata[0]}<br>Country=%{location}<br>Change=%{marker.color}<extra></extra>\",\"hovertext\":[\"Denmark\",\"France\",\"Italy\",\"Spain\",\"Switzerland\"],\"legendgroup\":\"\",\"locationmode\":\"country names\",\"locations\":[\"Denmark\",\"France\",\"Italy\",\"Spain\",\"Switzerland\"],\"marker\":{\"color\":[-0.04250442235343943,-0.0022551048778227667,0.009267598586484072,-0.016208441270341045,-0.023149465468883412],\"coloraxis\":\"coloraxis\",\"size\":[38431.0,678258.0,645467.0,412431.0,48063.0],\"sizemode\":\"area\",\"sizeref\":131.52359099999998,\"symbol\":\"circle\"},\"mode\":\"markers\",\"name\":\"\",\"showlegend\":false,\"type\":\"scattergeo\"}],\"name\":\"1928\"},{\"data\":[{\"customdata\":[[39445.0],[742720.0],[666715.0],[406662.0],[50438.0]],\"geo\":\"geo\",\"hovertemplate\":\"<b>%{hovertext}</b><br><br>Year=1929<br>Total=%{customdata[0]}<br>Country=%{location}<br>Change=%{marker.color}<extra></extra>\",\"hovertext\":[\"Denmark\",\"France\",\"Italy\",\"Spain\",\"Switzerland\"],\"legendgroup\":\"\",\"locationmode\":\"country names\",\"locations\":[\"Denmark\",\"France\",\"Italy\",\"Spain\",\"Switzerland\"],\"marker\":{\"color\":[0.026384949650022138,0.09504053029967952,0.03291880142594428,-0.01398779432195929,0.04941431038428723],\"coloraxis\":\"coloraxis\",\"size\":[39445.0,742720.0,666715.0,406662.0,50438.0],\"sizemode\":\"area\",\"sizeref\":131.52359099999998,\"symbol\":\"circle\"},\"mode\":\"markers\",\"name\":\"\",\"showlegend\":false,\"type\":\"scattergeo\"}],\"name\":\"1929\"},{\"data\":[{\"customdata\":[[38122.0],[652939.0],[576583.0],[476100.0],[46939.0]],\"geo\":\"geo\",\"hovertemplate\":\"<b>%{hovertext}</b><br><br>Year=1930<br>Total=%{customdata[0]}<br>Country=%{location}<br>Change=%{marker.color}<extra></extra>\",\"hovertext\":[\"Denmark\",\"France\",\"Italy\",\"Spain\",\"Switzerland\"],\"legendgroup\":\"\",\"locationmode\":\"country names\",\"locations\":[\"Denmark\",\"France\",\"Italy\",\"Spain\",\"Switzerland\"],\"marker\":{\"color\":[-0.03354037267080745,-0.12088135501938824,-0.13518819885558297,0.1707511397671777,-0.06937229866370598],\"coloraxis\":\"coloraxis\",\"size\":[38122.0,652939.0,576583.0,476100.0,46939.0],\"sizemode\":\"area\",\"sizeref\":131.52359099999998,\"symbol\":\"circle\"},\"mode\":\"markers\",\"name\":\"\",\"showlegend\":false,\"type\":\"scattergeo\"}],\"name\":\"1930\"},{\"data\":[{\"customdata\":[[40568.0],[682698.0],[609329.0],[487616.0],[49414.0]],\"geo\":\"geo\",\"hovertemplate\":\"<b>%{hovertext}</b><br><br>Year=1931<br>Total=%{customdata[0]}<br>Country=%{location}<br>Change=%{marker.color}<extra></extra>\",\"hovertext\":[\"Denmark\",\"France\",\"Italy\",\"Spain\",\"Switzerland\"],\"legendgroup\":\"\",\"locationmode\":\"country names\",\"locations\":[\"Denmark\",\"France\",\"Italy\",\"Spain\",\"Switzerland\"],\"marker\":{\"color\":[0.06416242589580823,0.04557699877017618,0.056793211038133284,0.024188195757193887,0.05272800869213223],\"coloraxis\":\"coloraxis\",\"size\":[40568.0,682698.0,609329.0,487616.0,49414.0],\"sizemode\":\"area\",\"sizeref\":131.52359099999998,\"symbol\":\"circle\"},\"mode\":\"markers\",\"name\":\"\",\"showlegend\":false,\"type\":\"scattergeo\"}],\"name\":\"1931\"},{\"data\":[{\"customdata\":[[39696.0],[663662.0],[610620.0],[466596.0],[49911.0]],\"geo\":\"geo\",\"hovertemplate\":\"<b>%{hovertext}</b><br><br>Year=1932<br>Total=%{customdata[0]}<br>Country=%{location}<br>Change=%{marker.color}<extra></extra>\",\"hovertext\":[\"Denmark\",\"France\",\"Italy\",\"Spain\",\"Switzerland\"],\"legendgroup\":\"\",\"locationmode\":\"country names\",\"locations\":[\"Denmark\",\"France\",\"Italy\",\"Spain\",\"Switzerland\"],\"marker\":{\"color\":[-0.021494774206270995,-0.027883485816568965,0.002118724039065878,-0.04310769129807057,0.010057878334075454],\"coloraxis\":\"coloraxis\",\"size\":[39696.0,663662.0,610620.0,466596.0,49911.0],\"sizemode\":\"area\",\"sizeref\":131.52359099999998,\"symbol\":\"circle\"},\"mode\":\"markers\",\"name\":\"\",\"showlegend\":false,\"type\":\"scattergeo\"}],\"name\":\"1932\"},{\"data\":[{\"customdata\":[[38282.0],[664103.0],[574101.0],[473198.0],[47181.0]],\"geo\":\"geo\",\"hovertemplate\":\"<b>%{hovertext}</b><br><br>Year=1933<br>Total=%{customdata[0]}<br>Country=%{location}<br>Change=%{marker.color}<extra></extra>\",\"hovertext\":[\"Denmark\",\"France\",\"Italy\",\"Spain\",\"Switzerland\"],\"legendgroup\":\"\",\"locationmode\":\"country names\",\"locations\":[\"Denmark\",\"France\",\"Italy\",\"Spain\",\"Switzerland\"],\"marker\":{\"color\":[-0.03562071745264006,0.0006644948784171323,-0.05980642625528154,0.014149285463227246,-0.05469736130311953],\"coloraxis\":\"coloraxis\",\"size\":[38282.0,664103.0,574101.0,473198.0,47181.0],\"sizemode\":\"area\",\"sizeref\":131.52359099999998,\"symbol\":\"circle\"},\"mode\":\"markers\",\"name\":\"\",\"showlegend\":false,\"type\":\"scattergeo\"}],\"name\":\"1933\"},{\"data\":[{\"customdata\":[[38045.0],[637682.0],[563293.0],[463727.0],[46806.0]],\"geo\":\"geo\",\"hovertemplate\":\"<b>%{hovertext}</b><br><br>Year=1934<br>Total=%{customdata[0]}<br>Country=%{location}<br>Change=%{marker.color}<extra></extra>\",\"hovertext\":[\"Denmark\",\"France\",\"Italy\",\"Spain\",\"Switzerland\"],\"legendgroup\":\"\",\"locationmode\":\"country names\",\"locations\":[\"Denmark\",\"France\",\"Italy\",\"Spain\",\"Switzerland\"],\"marker\":{\"color\":[-0.0061908991170784855,-0.039784491261144694,-0.018825955711625708,-0.020014877493142458,-0.007948114707191478],\"coloraxis\":\"coloraxis\",\"size\":[38045.0,637682.0,563293.0,463727.0,46806.0],\"sizemode\":\"area\",\"sizeref\":131.52359099999998,\"symbol\":\"circle\"},\"mode\":\"markers\",\"name\":\"\",\"showlegend\":false,\"type\":\"scattergeo\"}],\"name\":\"1934\"},{\"data\":[{\"customdata\":[[40809.0],[661707.0],[593930.0],[457168.0],[50233.0]],\"geo\":\"geo\",\"hovertemplate\":\"<b>%{hovertext}</b><br><br>Year=1935<br>Total=%{customdata[0]}<br>Country=%{location}<br>Change=%{marker.color}<extra></extra>\",\"hovertext\":[\"Denmark\",\"France\",\"Italy\",\"Spain\",\"Switzerland\"],\"legendgroup\":\"\",\"locationmode\":\"country names\",\"locations\":[\"Denmark\",\"France\",\"Italy\",\"Spain\",\"Switzerland\"],\"marker\":{\"color\":[0.0726508082533841,0.0376755185186346,0.05438910123150831,-0.014144097712662784,0.07321710891766009],\"coloraxis\":\"coloraxis\",\"size\":[40809.0,661707.0,593930.0,457168.0,50233.0],\"sizemode\":\"area\",\"sizeref\":131.52359099999998,\"symbol\":\"circle\"},\"mode\":\"markers\",\"name\":\"\",\"showlegend\":false,\"type\":\"scattergeo\"}],\"name\":\"1935\"},{\"data\":[{\"customdata\":[[40915.0],[645834.0],[589575.0],[471003.0],[47650.0]],\"geo\":\"geo\",\"hovertemplate\":\"<b>%{hovertext}</b><br><br>Year=1936<br>Total=%{customdata[0]}<br>Country=%{location}<br>Change=%{marker.color}<extra></extra>\",\"hovertext\":[\"Denmark\",\"France\",\"Italy\",\"Spain\",\"Switzerland\"],\"legendgroup\":\"\",\"locationmode\":\"country names\",\"locations\":[\"Denmark\",\"France\",\"Italy\",\"Spain\",\"Switzerland\"],\"marker\":{\"color\":[0.0025974662451910824,-0.023987958416640587,-0.007332513932618356,0.030262398068106267,-0.05142038102442614],\"coloraxis\":\"coloraxis\",\"size\":[40915.0,645834.0,589575.0,471003.0,47650.0],\"sizemode\":\"area\",\"sizeref\":131.52359099999998,\"symbol\":\"circle\"},\"mode\":\"markers\",\"name\":\"\",\"showlegend\":false,\"type\":\"scattergeo\"}],\"name\":\"1936\"},{\"data\":[{\"customdata\":[[40435.0],[632867.0],[615404.0],[532369.0],[47274.0]],\"geo\":\"geo\",\"hovertemplate\":\"<b>%{hovertext}</b><br><br>Year=1937<br>Total=%{customdata[0]}<br>Country=%{location}<br>Change=%{marker.color}<extra></extra>\",\"hovertext\":[\"Denmark\",\"France\",\"Italy\",\"Spain\",\"Switzerland\"],\"legendgroup\":\"\",\"locationmode\":\"country names\",\"locations\":[\"Denmark\",\"France\",\"Italy\",\"Spain\",\"Switzerland\"],\"marker\":{\"color\":[-0.011731638763289753,-0.02007791475828158,0.04380952380952374,0.13028791748672508,-0.007890870933892957],\"coloraxis\":\"coloraxis\",\"size\":[40435.0,632867.0,615404.0,532369.0,47274.0],\"sizemode\":\"area\",\"sizeref\":131.52359099999998,\"symbol\":\"circle\"},\"mode\":\"markers\",\"name\":\"\",\"showlegend\":false,\"type\":\"scattergeo\"}],\"name\":\"1937\"},{\"data\":[{\"customdata\":[[39049.0],[650756.0],[612206.0],[528607.0],[48576.0]],\"geo\":\"geo\",\"hovertemplate\":\"<b>%{hovertext}</b><br><br>Year=1938<br>Total=%{customdata[0]}<br>Country=%{location}<br>Change=%{marker.color}<extra></extra>\",\"hovertext\":[\"Denmark\",\"France\",\"Italy\",\"Spain\",\"Switzerland\"],\"legendgroup\":\"\",\"locationmode\":\"country names\",\"locations\":[\"Denmark\",\"France\",\"Italy\",\"Spain\",\"Switzerland\"],\"marker\":{\"color\":[-0.034277235068628675,0.028266602619507752,-0.005196586307531281,-0.007066527164429237,0.027541566188602706],\"coloraxis\":\"coloraxis\",\"size\":[39049.0,650756.0,612206.0,528607.0,48576.0],\"sizemode\":\"area\",\"sizeref\":131.52359099999998,\"symbol\":\"circle\"},\"mode\":\"markers\",\"name\":\"\",\"showlegend\":false,\"type\":\"scattergeo\"}],\"name\":\"1938\"},{\"data\":[{\"customdata\":[[38525.0],[622426.0],[590433.0],[520433.0],[49484.0]],\"geo\":\"geo\",\"hovertemplate\":\"<b>%{hovertext}</b><br><br>Year=1939<br>Total=%{customdata[0]}<br>Country=%{location}<br>Change=%{marker.color}<extra></extra>\",\"hovertext\":[\"Denmark\",\"France\",\"Italy\",\"Spain\",\"Switzerland\"],\"legendgroup\":\"\",\"locationmode\":\"country names\",\"locations\":[\"Denmark\",\"France\",\"Italy\",\"Spain\",\"Switzerland\"],\"marker\":{\"color\":[-0.01341903761940122,-0.04353398201476433,-0.03556482621862578,-0.015463283687124796,0.018692358366271478],\"coloraxis\":\"coloraxis\",\"size\":[38525.0,622426.0,590433.0,520433.0,49484.0],\"sizemode\":\"area\",\"sizeref\":131.52359099999998,\"symbol\":\"circle\"},\"mode\":\"markers\",\"name\":\"\",\"showlegend\":false,\"type\":\"scattergeo\"}],\"name\":\"1939\"},{\"data\":[{\"customdata\":[[39710.0],[735658.0],[619683.12],[493028.0],[50759.0]],\"geo\":\"geo\",\"hovertemplate\":\"<b>%{hovertext}</b><br><br>Year=1940<br>Total=%{customdata[0]}<br>Country=%{location}<br>Change=%{marker.color}<extra></extra>\",\"hovertext\":[\"Denmark\",\"France\",\"Italy\",\"Spain\",\"Switzerland\"],\"legendgroup\":\"\",\"locationmode\":\"country names\",\"locations\":[\"Denmark\",\"France\",\"Italy\",\"Spain\",\"Switzerland\"],\"marker\":{\"color\":[0.03075924724205059,0.18192042106210216,0.04954011716824769,-0.052658075102847035,0.02576590413062818],\"coloraxis\":\"coloraxis\",\"size\":[39710.0,735658.0,619683.12,493028.0,50759.0],\"sizemode\":\"area\",\"sizeref\":131.52359099999998,\"symbol\":\"circle\"},\"mode\":\"markers\",\"name\":\"\",\"showlegend\":false,\"type\":\"scattergeo\"}],\"name\":\"1940\"},{\"data\":[{\"customdata\":[[39721.0],[655370.0],[662662.89],[557099.0],[47336.0]],\"geo\":\"geo\",\"hovertemplate\":\"<b>%{hovertext}</b><br><br>Year=1941<br>Total=%{customdata[0]}<br>Country=%{location}<br>Change=%{marker.color}<extra></extra>\",\"hovertext\":[\"Denmark\",\"France\",\"Italy\",\"Spain\",\"Switzerland\"],\"legendgroup\":\"\",\"locationmode\":\"country names\",\"locations\":[\"Denmark\",\"France\",\"Italy\",\"Spain\",\"Switzerland\"],\"marker\":{\"color\":[0.0002770083102492382,-0.10913766994989516,0.06935765815276684,0.12995407968715766,-0.06743631671230721],\"coloraxis\":\"coloraxis\",\"size\":[39721.0,655370.0,662662.89,557099.0,47336.0],\"sizemode\":\"area\",\"sizeref\":131.52359099999998,\"symbol\":\"circle\"},\"mode\":\"markers\",\"name\":\"\",\"showlegend\":false,\"type\":\"scattergeo\"}],\"name\":\"1941\"},{\"data\":[{\"customdata\":[[37475.0],[637800.0],[707605.94],[439719.0],[46928.0]],\"geo\":\"geo\",\"hovertemplate\":\"<b>%{hovertext}</b><br><br>Year=1942<br>Total=%{customdata[0]}<br>Country=%{location}<br>Change=%{marker.color}<extra></extra>\",\"hovertext\":[\"Denmark\",\"France\",\"Italy\",\"Spain\",\"Switzerland\"],\"legendgroup\":\"\",\"locationmode\":\"country names\",\"locations\":[\"Denmark\",\"France\",\"Italy\",\"Spain\",\"Switzerland\"],\"marker\":{\"color\":[-0.056544397170262606,-0.026809283305613607,0.06782189055433596,-0.21069863704655722,-0.008619232719283443],\"coloraxis\":\"coloraxis\",\"size\":[37475.0,637800.0,707605.94,439719.0,46928.0],\"sizemode\":\"area\",\"sizeref\":131.52359099999998,\"symbol\":\"circle\"},\"mode\":\"markers\",\"name\":\"\",\"showlegend\":false,\"type\":\"scattergeo\"}],\"name\":\"1942\"},{\"data\":[{\"customdata\":[[37923.0],[603343.0],[782606.08],[410012.0],[47409.0]],\"geo\":\"geo\",\"hovertemplate\":\"<b>%{hovertext}</b><br><br>Year=1943<br>Total=%{customdata[0]}<br>Country=%{location}<br>Change=%{marker.color}<extra></extra>\",\"hovertext\":[\"Denmark\",\"France\",\"Italy\",\"Spain\",\"Switzerland\"],\"legendgroup\":\"\",\"locationmode\":\"country names\",\"locations\":[\"Denmark\",\"France\",\"Italy\",\"Spain\",\"Switzerland\"],\"marker\":{\"color\":[0.01195463642428285,-0.05402477265600503,0.10599139402362856,-0.0675590547599717,0.010249744289123841],\"coloraxis\":\"coloraxis\",\"size\":[37923.0,603343.0,782606.08,410012.0,47409.0],\"sizemode\":\"area\",\"sizeref\":131.52359099999998,\"symbol\":\"circle\"},\"mode\":\"markers\",\"name\":\"\",\"showlegend\":false,\"type\":\"scattergeo\"}],\"name\":\"1943\"},{\"data\":[{\"customdata\":[[41051.0],[700679.0],[721607.94],[402435.0],[52336.0]],\"geo\":\"geo\",\"hovertemplate\":\"<b>%{hovertext}</b><br><br>Year=1944<br>Total=%{customdata[0]}<br>Country=%{location}<br>Change=%{marker.color}<extra></extra>\",\"hovertext\":[\"Denmark\",\"France\",\"Italy\",\"Spain\",\"Switzerland\"],\"legendgroup\":\"\",\"locationmode\":\"country names\",\"locations\":[\"Denmark\",\"France\",\"Italy\",\"Spain\",\"Switzerland\"],\"marker\":{\"color\":[0.08248292592885575,0.16132780193024532,-0.07794232827835945,-0.018479946928382618,0.10392541500558972],\"coloraxis\":\"coloraxis\",\"size\":[41051.0,700679.0,721607.94,402435.0,52336.0],\"sizemode\":\"area\",\"sizeref\":131.52359099999998,\"symbol\":\"circle\"},\"mode\":\"markers\",\"name\":\"\",\"showlegend\":false,\"type\":\"scattergeo\"}],\"name\":\"1944\"},{\"data\":[{\"customdata\":[[42216.0],[614344.0],[634862.93],[380994.0],[51086.0]],\"geo\":\"geo\",\"hovertemplate\":\"<b>%{hovertext}</b><br><br>Year=1945<br>Total=%{customdata[0]}<br>Country=%{location}<br>Change=%{marker.color}<extra></extra>\",\"hovertext\":[\"Denmark\",\"France\",\"Italy\",\"Spain\",\"Switzerland\"],\"legendgroup\":\"\",\"locationmode\":\"country names\",\"locations\":[\"Denmark\",\"France\",\"Italy\",\"Spain\",\"Switzerland\"],\"marker\":{\"color\":[0.028379333024774134,-0.12321619457697464,-0.12021071996519317,-0.05327816914532779,-0.023884133292571108],\"coloraxis\":\"coloraxis\",\"size\":[42216.0,614344.0,634862.93,380994.0,51086.0],\"sizemode\":\"area\",\"sizeref\":131.52359099999998,\"symbol\":\"circle\"},\"mode\":\"markers\",\"name\":\"\",\"showlegend\":false,\"type\":\"scattergeo\"}],\"name\":\"1945\"},{\"data\":[{\"customdata\":[[41996.0],[545418.0],[542516.0],[399923.0],[50276.0]],\"geo\":\"geo\",\"hovertemplate\":\"<b>%{hovertext}</b><br><br>Year=1946<br>Total=%{customdata[0]}<br>Country=%{location}<br>Change=%{marker.color}<extra></extra>\",\"hovertext\":[\"Denmark\",\"France\",\"Italy\",\"Spain\",\"Switzerland\"],\"legendgroup\":\"\",\"locationmode\":\"country names\",\"locations\":[\"Denmark\",\"France\",\"Italy\",\"Spain\",\"Switzerland\"],\"marker\":{\"color\":[-0.005211294296001534,-0.11219447085020773,-0.14545963488528157,0.04968319711071567,-0.015855616020044594],\"coloraxis\":\"coloraxis\",\"size\":[41996.0,545418.0,542516.0,399923.0,50276.0],\"sizemode\":\"area\",\"sizeref\":131.52359099999998,\"symbol\":\"circle\"},\"mode\":\"markers\",\"name\":\"\",\"showlegend\":false,\"type\":\"scattergeo\"}],\"name\":\"1946\"},{\"data\":[{\"customdata\":[[40029.0],[537917.0],[518665.0],[368437.0],[51384.0]],\"geo\":\"geo\",\"hovertemplate\":\"<b>%{hovertext}</b><br><br>Year=1947<br>Total=%{customdata[0]}<br>Country=%{location}<br>Change=%{marker.color}<extra></extra>\",\"hovertext\":[\"Denmark\",\"France\",\"Italy\",\"Spain\",\"Switzerland\"],\"legendgroup\":\"\",\"locationmode\":\"country names\",\"locations\":[\"Denmark\",\"France\",\"Italy\",\"Spain\",\"Switzerland\"],\"marker\":{\"color\":[-0.04683779407562627,-0.01375275476790283,-0.043963680333851896,-0.07873015555494434,0.02203834831728857],\"coloraxis\":\"coloraxis\",\"size\":[40029.0,537917.0,518665.0,368437.0,51384.0],\"sizemode\":\"area\",\"sizeref\":131.52359099999998,\"symbol\":\"circle\"},\"mode\":\"markers\",\"name\":\"\",\"showlegend\":false,\"type\":\"scattergeo\"}],\"name\":\"1947\"},{\"data\":[{\"customdata\":[[35969.0],[512947.0],[485846.0],[343871.0],[49679.0]],\"geo\":\"geo\",\"hovertemplate\":\"<b>%{hovertext}</b><br><br>Year=1948<br>Total=%{customdata[0]}<br>Country=%{location}<br>Change=%{marker.color}<extra></extra>\",\"hovertext\":[\"Denmark\",\"France\",\"Italy\",\"Spain\",\"Switzerland\"],\"legendgroup\":\"\",\"locationmode\":\"country names\",\"locations\":[\"Denmark\",\"France\",\"Italy\",\"Spain\",\"Switzerland\"],\"marker\":{\"color\":[-0.10142646581228609,-0.04641980082429076,-0.06327591026963453,-0.06667625672774447,-0.033181535108204874],\"coloraxis\":\"coloraxis\",\"size\":[35969.0,512947.0,485846.0,343871.0,49679.0],\"sizemode\":\"area\",\"sizeref\":131.52359099999998,\"symbol\":\"circle\"},\"mode\":\"markers\",\"name\":\"\",\"showlegend\":false,\"type\":\"scattergeo\"}],\"name\":\"1948\"},{\"data\":[{\"customdata\":[[37785.0],[573351.0],[482070.0],[360206.0],[49497.0]],\"geo\":\"geo\",\"hovertemplate\":\"<b>%{hovertext}</b><br><br>Year=1949<br>Total=%{customdata[0]}<br>Country=%{location}<br>Change=%{marker.color}<extra></extra>\",\"hovertext\":[\"Denmark\",\"France\",\"Italy\",\"Spain\",\"Switzerland\"],\"legendgroup\":\"\",\"locationmode\":\"country names\",\"locations\":[\"Denmark\",\"France\",\"Italy\",\"Spain\",\"Switzerland\"],\"marker\":{\"color\":[0.05048792015346559,0.11775875480312781,-0.007772010060801193,0.047503278845846264,-0.0036635197970973365],\"coloraxis\":\"coloraxis\",\"size\":[37785.0,573351.0,482070.0,360206.0,49497.0],\"sizemode\":\"area\",\"sizeref\":131.52359099999998,\"symbol\":\"circle\"},\"mode\":\"markers\",\"name\":\"\",\"showlegend\":false,\"type\":\"scattergeo\"}],\"name\":\"1949\"},{\"data\":[{\"customdata\":[[39292.0],[534336.0],[452068.0],[339390.0],[47372.0]],\"geo\":\"geo\",\"hovertemplate\":\"<b>%{hovertext}</b><br><br>Year=1950<br>Total=%{customdata[0]}<br>Country=%{location}<br>Change=%{marker.color}<extra></extra>\",\"hovertext\":[\"Denmark\",\"France\",\"Italy\",\"Spain\",\"Switzerland\"],\"legendgroup\":\"\",\"locationmode\":\"country names\",\"locations\":[\"Denmark\",\"France\",\"Italy\",\"Spain\",\"Switzerland\"],\"marker\":{\"color\":[0.03988355167394464,-0.06804732179764228,-0.06223577488746446,-0.05778915398410911,-0.04293189486231486],\"coloraxis\":\"coloraxis\",\"size\":[39292.0,534336.0,452068.0,339390.0,47372.0],\"sizemode\":\"area\",\"sizeref\":131.52359099999998,\"symbol\":\"circle\"},\"mode\":\"markers\",\"name\":\"\",\"showlegend\":false,\"type\":\"scattergeo\"}],\"name\":\"1950\"},{\"data\":[{\"customdata\":[[37953.0],[565693.0],[481874.0],[359567.0],[49952.0]],\"geo\":\"geo\",\"hovertemplate\":\"<b>%{hovertext}</b><br><br>Year=1951<br>Total=%{customdata[0]}<br>Country=%{location}<br>Change=%{marker.color}<extra></extra>\",\"hovertext\":[\"Denmark\",\"France\",\"Italy\",\"Spain\",\"Switzerland\"],\"legendgroup\":\"\",\"locationmode\":\"country names\",\"locations\":[\"Denmark\",\"France\",\"Italy\",\"Spain\",\"Switzerland\"],\"marker\":{\"color\":[-0.03407818385421968,0.058684048987902804,0.06593255881858484,0.059450779339403015,0.0544625517183146],\"coloraxis\":\"coloraxis\",\"size\":[37953.0,565693.0,481874.0,359567.0,49952.0],\"sizemode\":\"area\",\"sizeref\":131.52359099999998,\"symbol\":\"circle\"},\"mode\":\"markers\",\"name\":\"\",\"showlegend\":false,\"type\":\"scattergeo\"}],\"name\":\"1951\"},{\"data\":[{\"customdata\":[[39173.0],[524651.0],[474422.0],[306218.0],[47625.0]],\"geo\":\"geo\",\"hovertemplate\":\"<b>%{hovertext}</b><br><br>Year=1952<br>Total=%{customdata[0]}<br>Country=%{location}<br>Change=%{marker.color}<extra></extra>\",\"hovertext\":[\"Denmark\",\"France\",\"Italy\",\"Spain\",\"Switzerland\"],\"legendgroup\":\"\",\"locationmode\":\"country names\",\"locations\":[\"Denmark\",\"France\",\"Italy\",\"Spain\",\"Switzerland\"],\"marker\":{\"color\":[0.03214502147392828,-0.07255171974905117,-0.01546462353229272,-0.1483701229534412,-0.04658472133247915],\"coloraxis\":\"coloraxis\",\"size\":[39173.0,524651.0,474422.0,306218.0,47625.0],\"sizemode\":\"area\",\"sizeref\":131.52359099999998,\"symbol\":\"circle\"},\"mode\":\"markers\",\"name\":\"\",\"showlegend\":false,\"type\":\"scattergeo\"}],\"name\":\"1952\"},{\"data\":[{\"customdata\":[[39349.0],[556849.0],[472672.0],[307120.0],[49684.0]],\"geo\":\"geo\",\"hovertemplate\":\"<b>%{hovertext}</b><br><br>Year=1953<br>Total=%{customdata[0]}<br>Country=%{location}<br>Change=%{marker.color}<extra></extra>\",\"hovertext\":[\"Denmark\",\"France\",\"Italy\",\"Spain\",\"Switzerland\"],\"legendgroup\":\"\",\"locationmode\":\"country names\",\"locations\":[\"Denmark\",\"France\",\"Italy\",\"Spain\",\"Switzerland\"],\"marker\":{\"color\":[0.004492890511321512,0.06137032046064905,-0.003688699090682923,0.0029456139090451305,0.04323359580052499],\"coloraxis\":\"coloraxis\",\"size\":[39349.0,556849.0,472672.0,307120.0,49684.0],\"sizemode\":\"area\",\"sizeref\":131.52359099999998,\"symbol\":\"circle\"},\"mode\":\"markers\",\"name\":\"\",\"showlegend\":false,\"type\":\"scattergeo\"}],\"name\":\"1953\"},{\"data\":[{\"customdata\":[[39885.0],[518786.0],[441878.0],[290084.0],[49113.0]],\"geo\":\"geo\",\"hovertemplate\":\"<b>%{hovertext}</b><br><br>Year=1954<br>Total=%{customdata[0]}<br>Country=%{location}<br>Change=%{marker.color}<extra></extra>\",\"hovertext\":[\"Denmark\",\"France\",\"Italy\",\"Spain\",\"Switzerland\"],\"legendgroup\":\"\",\"locationmode\":\"country names\",\"locations\":[\"Denmark\",\"France\",\"Italy\",\"Spain\",\"Switzerland\"],\"marker\":{\"color\":[0.013621693054461259,-0.06835425761741509,-0.06514877124094509,-0.05547017452461578,-0.011492633443362044],\"coloraxis\":\"coloraxis\",\"size\":[39885.0,518786.0,441878.0,290084.0,49113.0],\"sizemode\":\"area\",\"sizeref\":131.52359099999998,\"symbol\":\"circle\"},\"mode\":\"markers\",\"name\":\"\",\"showlegend\":false,\"type\":\"scattergeo\"}],\"name\":\"1954\"},{\"data\":[{\"customdata\":[[38788.0],[526205.0],[446667.0],[302034.0],[50366.0]],\"geo\":\"geo\",\"hovertemplate\":\"<b>%{hovertext}</b><br><br>Year=1955<br>Total=%{customdata[0]}<br>Country=%{location}<br>Change=%{marker.color}<extra></extra>\",\"hovertext\":[\"Denmark\",\"France\",\"Italy\",\"Spain\",\"Switzerland\"],\"legendgroup\":\"\",\"locationmode\":\"country names\",\"locations\":[\"Denmark\",\"France\",\"Italy\",\"Spain\",\"Switzerland\"],\"marker\":{\"color\":[-0.027504074213363428,0.014300694313262197,0.010837833067045555,0.0411949642172611,0.025512593407040818],\"coloraxis\":\"coloraxis\",\"size\":[38788.0,526205.0,446667.0,302034.0,50366.0],\"sizemode\":\"area\",\"sizeref\":131.52359099999998,\"symbol\":\"circle\"},\"mode\":\"markers\",\"name\":\"\",\"showlegend\":false,\"type\":\"scattergeo\"}],\"name\":\"1955\"},{\"data\":[{\"customdata\":[[39587.0],[545699.0],[497539.0],[316073.0],[51573.0]],\"geo\":\"geo\",\"hovertemplate\":\"<b>%{hovertext}</b><br><br>Year=1956<br>Total=%{customdata[0]}<br>Country=%{location}<br>Change=%{marker.color}<extra></extra>\",\"hovertext\":[\"Denmark\",\"France\",\"Italy\",\"Spain\",\"Switzerland\"],\"legendgroup\":\"\",\"locationmode\":\"country names\",\"locations\":[\"Denmark\",\"France\",\"Italy\",\"Spain\",\"Switzerland\"],\"marker\":{\"color\":[0.02059915437764248,0.0370463982668352,0.11389245231906542,0.04648152194786026,0.02396457927967277],\"coloraxis\":\"coloraxis\",\"size\":[39587.0,545699.0,497539.0,316073.0,51573.0],\"sizemode\":\"area\",\"sizeref\":131.52359099999998,\"symbol\":\"circle\"},\"mode\":\"markers\",\"name\":\"\",\"showlegend\":false,\"type\":\"scattergeo\"}],\"name\":\"1956\"},{\"data\":[{\"customdata\":[[41731.0],[532107.0],[484190.0],[322635.0],[51071.0]],\"geo\":\"geo\",\"hovertemplate\":\"<b>%{hovertext}</b><br><br>Year=1957<br>Total=%{customdata[0]}<br>Country=%{location}<br>Change=%{marker.color}<extra></extra>\",\"hovertext\":[\"Denmark\",\"France\",\"Italy\",\"Spain\",\"Switzerland\"],\"legendgroup\":\"\",\"locationmode\":\"country names\",\"locations\":[\"Denmark\",\"France\",\"Italy\",\"Spain\",\"Switzerland\"],\"marker\":{\"color\":[0.05415919367469124,-0.024907503953644827,-0.02683005754322776,0.020761026724838816,-0.009733775425125546],\"coloraxis\":\"coloraxis\",\"size\":[41731.0,532107.0,484190.0,322635.0,51071.0],\"sizemode\":\"area\",\"sizeref\":131.52359099999998,\"symbol\":\"circle\"},\"mode\":\"markers\",\"name\":\"\",\"showlegend\":false,\"type\":\"scattergeo\"}],\"name\":\"1957\"},{\"data\":[{\"customdata\":[[41561.0],[500596.0],[457690.0],[286381.0],[49281.0]],\"geo\":\"geo\",\"hovertemplate\":\"<b>%{hovertext}</b><br><br>Year=1958<br>Total=%{customdata[0]}<br>Country=%{location}<br>Change=%{marker.color}<extra></extra>\",\"hovertext\":[\"Denmark\",\"France\",\"Italy\",\"Spain\",\"Switzerland\"],\"legendgroup\":\"\",\"locationmode\":\"country names\",\"locations\":[\"Denmark\",\"France\",\"Italy\",\"Spain\",\"Switzerland\"],\"marker\":{\"color\":[-0.004073710191464408,-0.059219292360371156,-0.054730580970280274,-0.11236846591349359,-0.03504924516849095],\"coloraxis\":\"coloraxis\",\"size\":[41561.0,500596.0,457690.0,286381.0,49281.0],\"sizemode\":\"area\",\"sizeref\":131.52359099999998,\"symbol\":\"circle\"},\"mode\":\"markers\",\"name\":\"\",\"showlegend\":false,\"type\":\"scattergeo\"}],\"name\":\"1958\"},{\"data\":[{\"customdata\":[[42159.0],[509089.0],[454740.0],[294954.0],[50077.0]],\"geo\":\"geo\",\"hovertemplate\":\"<b>%{hovertext}</b><br><br>Year=1959<br>Total=%{customdata[0]}<br>Country=%{location}<br>Change=%{marker.color}<extra></extra>\",\"hovertext\":[\"Denmark\",\"France\",\"Italy\",\"Spain\",\"Switzerland\"],\"legendgroup\":\"\",\"locationmode\":\"country names\",\"locations\":[\"Denmark\",\"France\",\"Italy\",\"Spain\",\"Switzerland\"],\"marker\":{\"color\":[0.014388489208633004,0.016965776794061416,-0.006445410649129291,0.02993564517199121,0.016152269637385697],\"coloraxis\":\"coloraxis\",\"size\":[42159.0,509089.0,454740.0,294954.0,50077.0],\"sizemode\":\"area\",\"sizeref\":131.52359099999998,\"symbol\":\"circle\"},\"mode\":\"markers\",\"name\":\"\",\"showlegend\":false,\"type\":\"scattergeo\"}],\"name\":\"1959\"},{\"data\":[{\"customdata\":[[43672.0],[520960.0],[480932.0],[289860.0],[52094.0]],\"geo\":\"geo\",\"hovertemplate\":\"<b>%{hovertext}</b><br><br>Year=1960<br>Total=%{customdata[0]}<br>Country=%{location}<br>Change=%{marker.color}<extra></extra>\",\"hovertext\":[\"Denmark\",\"France\",\"Italy\",\"Spain\",\"Switzerland\"],\"legendgroup\":\"\",\"locationmode\":\"country names\",\"locations\":[\"Denmark\",\"France\",\"Italy\",\"Spain\",\"Switzerland\"],\"marker\":{\"color\":[0.03588794800635697,0.02331812315724746,0.05759774816378593,-0.017270489635672015,0.04027797192323823],\"coloraxis\":\"coloraxis\",\"size\":[43672.0,520960.0,480932.0,289860.0,52094.0],\"sizemode\":\"area\",\"sizeref\":131.52359099999998,\"symbol\":\"circle\"},\"mode\":\"markers\",\"name\":\"\",\"showlegend\":false,\"type\":\"scattergeo\"}],\"name\":\"1960\"}]);\n",
       "                        }).then(function(){\n",
       "                            \n",
       "var gd = document.getElementById('cf5b90d9-dba6-4f3b-b8d0-0bca91c6f28c');\n",
       "var x = new MutationObserver(function (mutations, observer) {{\n",
       "        var display = window.getComputedStyle(gd).display;\n",
       "        if (!display || display === 'none') {{\n",
       "            console.log([gd, 'removed!']);\n",
       "            Plotly.purge(gd);\n",
       "            observer.disconnect();\n",
       "        }}\n",
       "}});\n",
       "\n",
       "// Listen for the removal of the full notebook cells\n",
       "var notebookContainer = gd.closest('#notebook-container');\n",
       "if (notebookContainer) {{\n",
       "    x.observe(notebookContainer, {childList: true});\n",
       "}}\n",
       "\n",
       "// Listen for the clearing of the current output cell\n",
       "var outputEl = gd.closest('.output');\n",
       "if (outputEl) {{\n",
       "    x.observe(outputEl, {childList: true});\n",
       "}}\n",
       "\n",
       "                        })                };                });            </script>        </div>"
      ]
     },
     "metadata": {},
     "output_type": "display_data"
    }
   ],
   "source": [
    "import pandas as pd\n",
    "import plotly.express as px\n",
    "import plotly.graph_objs as go\n",
    "\n",
    "# Function to read and merge CSV files\n",
    "def read_and_merge_csvs(filenames):\n",
    "    dfs = [pd.read_csv(f) for f in filenames]\n",
    "    return pd.concat(dfs)\n",
    "\n",
    "# Function to clean and process the data\n",
    "def clean_and_process_data(df):\n",
    "    selected_cols = ['PopName', 'Year', 'Age', 'Deaths']\n",
    "    df = df[selected_cols]\n",
    "    df = df.loc[(df['Year'] >= 1910) & (df['Year'] <= 1960)]\n",
    "    df['Age'] = pd.to_numeric(df['Age'], errors='coerce')\n",
    "    df = df.dropna(subset=['Age'])\n",
    "    df['PopName'] = df['PopName'].replace(popname_dict)\n",
    "    df = df.rename(columns={'PopName': 'Country', 'Deaths': 'Total'})\n",
    "    return df\n",
    "\n",
    "# Function to calculate the total deaths and change in death rates\n",
    "def calculate_total_and_change(df):\n",
    "    grouped_data = df.groupby(['Country', 'Year']).agg({'Total': 'sum'}).reset_index()\n",
    "    grouped_data['Change'] = grouped_data.groupby('Country')['Total'].pct_change()\n",
    "    return grouped_data\n",
    "\n",
    "# Function to create and display the map visualization\n",
    "def create_and_show_map(grouped_data):\n",
    "    fig = px.scatter_geo(grouped_data, locations=\"Country\", locationmode=\"country names\",\n",
    "                         size=\"Total\", color=\"Change\", animation_frame=\"Year\",\n",
    "                         projection=\"natural earth\", hover_name=\"Country\", hover_data=[\"Total\"],\n",
    "                         size_max=100, range_color=(-0.3, 0.3),\n",
    "                         color_continuous_scale=px.colors.diverging.RdYlGn_r,\n",
    "                         title=\"Total Deaths and Death Rate Change by Country and Year\",\n",
    "                         scope='europe')\n",
    "    \n",
    "    fig.update_geos(\n",
    "        lataxis_range=[35, 65],\n",
    "        lonaxis_range=[-15, 30]\n",
    "    )\n",
    "\n",
    "    # Add country names as text scatter plot\n",
    "    country_coords = {\n",
    "        'Switzerland': [46.8182, 8.2275],\n",
    "        'Denmark': [56.2639, 9.5018],\n",
    "        'Spain': [40.4637, -3.7492],\n",
    "        'France': [46.603354, 1.888334],\n",
    "        'Italy': [41.8719, 12.5674]\n",
    "    }\n",
    "\n",
    "    for country, coords in country_coords.items():\n",
    "        fig.add_trace(go.Scattergeo(\n",
    "            lat=[coords[0]],\n",
    "            lon=[coords[1]],\n",
    "            text=[country],\n",
    "            mode='text',\n",
    "            showlegend=False,\n",
    "            textfont=dict(size=12, color='black')\n",
    "        ))\n",
    "\n",
    "\n",
    "    fig.update_layout(height=600, width=1000, coloraxis_colorbar_tickfont=dict(size=10))\n",
    "    fig.layout.updatemenus[0].buttons[0].args[1][\"frame\"][\"duration\"] = 1000\n",
    "    fig.layout.sliders[0].active = len(fig.layout.sliders[0].steps) - 1\n",
    "    fig.for_each_trace(lambda trace: trace.update(marker=dict(line=dict(width=1, color='gray'))))\n",
    "\n",
    "    fig.show()\n",
    "\n",
    "\n",
    "\n",
    "# Main part of the script\n",
    "# Define filenames and country name mapping\n",
    "filenames = ['CHEdeath.csv', 'DNKdeath.csv', 'ESPdeath.csv', 'FRACNPdeath.csv', 'ITAdeath.csv']\n",
    "popname_dict = {'CHE': 'Switzerland', 'DNK': 'Denmark', 'ESP': 'Spain', 'FRACNP': 'France', 'ITA': 'Italy'}\n",
    "\n",
    "# Read and merge data from CSV files\n",
    "df = read_and_merge_csvs(filenames)\n",
    "# Clean and process the data\n",
    "df = clean_and_process_data(df)\n",
    "# Calculate total deaths and change in death rates\n",
    "grouped_data = calculate_total_and_change(df)\n",
    "# Create and display the map visualization\n",
    "create_and_show_map(grouped_data)\n"
   ]
  },
  {
   "cell_type": "code",
   "execution_count": null,
   "id": "96867739-23f0-4a17-97b6-04d8eb36dac6",
   "metadata": {},
   "outputs": [
    {
     "name": "stderr",
     "output_type": "stream",
     "text": [
      "/var/folders/7c/wcdx5cvj5q93j42gwr1mndg40000gn/T/ipykernel_16911/942810296.py:8: DtypeWarning:\n",
      "\n",
      "Columns (7) have mixed types. Specify dtype option on import or set low_memory=False.\n",
      "\n",
      "/var/folders/7c/wcdx5cvj5q93j42gwr1mndg40000gn/T/ipykernel_16911/942810296.py:8: DtypeWarning:\n",
      "\n",
      "Columns (6,7) have mixed types. Specify dtype option on import or set low_memory=False.\n",
      "\n",
      "/var/folders/7c/wcdx5cvj5q93j42gwr1mndg40000gn/T/ipykernel_16911/942810296.py:8: DtypeWarning:\n",
      "\n",
      "Columns (6) have mixed types. Specify dtype option on import or set low_memory=False.\n",
      "\n"
     ]
    },
    {
     "data": {
      "application/vnd.jupyter.widget-view+json": {
       "model_id": "6a6000fe5b6949eda05e0e03db910990",
       "version_major": 2,
       "version_minor": 0
      },
      "text/plain": [
       "interactive(children=(IntSlider(value=1910, description='Year:', max=1960, min=1910), Output()), _dom_classes=…"
      ]
     },
     "metadata": {},
     "output_type": "display_data"
    }
   ],
   "source": [
    "import pandas as pd\n",
    "import numpy as np\n",
    "import plotly.express as px\n",
    "import ipywidgets as widgets\n",
    "from IPython.display import display\n",
    "\n",
    "filenames = ['CHEdeath.csv', 'DNKdeath.csv', 'ESPdeath.csv', 'FRACNPdeath.csv', 'ITAdeath.csv']\n",
    "dfs = [pd.read_csv(f) for f in filenames]\n",
    "merged_data = dfs\n",
    "\n",
    "# Merge all DataFrames into a single DataFrame\n",
    "merged_data = pd.concat(merged_data, ignore_index=True)\n",
    "\n",
    "# Preprocess the data\n",
    "popname_dict = {'CHE': 'Switzerland', 'DNK': 'Denmark', 'ESP': 'Spain', 'FRACNP': 'France', 'ITA': 'Italy'}\n",
    "merged_data['Age'] = pd.to_numeric(merged_data['Age'], errors='coerce')\n",
    "merged_data = merged_data.dropna(subset=['Age'])\n",
    "merged_data['PopName'] = merged_data['PopName'].replace(popname_dict)\n",
    "merged_data['Sex'] = merged_data['Sex'].replace({'f': 'Female', 'm': 'Male'})\n",
    "\n",
    "# Group by age\n",
    "merged_data['Age_group'] = pd.cut(merged_data['Age'], np.arange(0, 101, 20), right=False)\n",
    "merged_data['Age_group'] = merged_data['Age_group'].astype(str)\n",
    "\n",
    "# Define function to draw treemap\n",
    "def draw_treemap(year):\n",
    "    filtered_data = merged_data[(merged_data['Year'] == year)]\n",
    "    grouped_data = filtered_data.groupby(['Year', 'PopName', 'Sex', 'Age_group'], as_index=False)['Deaths'].sum()\n",
    "\n",
    "    fig = px.treemap(grouped_data,\n",
    "                     path=['PopName', 'Sex', 'Age_group'],\n",
    "                     values='Deaths',\n",
    "                     color='Age_group',\n",
    "                     color_discrete_map={'[0, 20)': 'rgba(51, 204, 255, 0.8)',\n",
    "                                         '[20, 40)': 'rgba(51, 153, 255, 0.8)',\n",
    "                                         '[40, 60)': 'rgba(51, 102, 255, 0.8)',\n",
    "                                         '[60, 80)': 'rgba(51, 51, 255, 0.8)',\n",
    "                                         '[80, 100)': 'rgba(0, 0, 255, 0.8)'},\n",
    "                     title=f'Treemap of Deaths by Country, Gender and Age Group in {year}',\n",
    "                     width=1200,\n",
    "                     height=800)\n",
    "    \n",
    "    fig.update_traces(marker=dict(line=dict(width=0.5, color='rgba(255, 255, 255, 0.5)')))\n",
    "    fig.update_layout(plot_bgcolor='rgba(0, 0, 0, 0)', paper_bgcolor='rgba(0, 0, 0, 0)')\n",
    "    fig.show()\n",
    "\n",
    "# Create slider\n",
    "year_slider = widgets.IntSlider(min=1910, max=1960, step=1, value=1910, description='Year:')\n",
    "\n",
    "# Create interactive plot using widgets.interactive\n",
    "interactive_plot = widgets.interactive(draw_treemap, year=year_slider)\n",
    "\n",
    "# Display the interactive plot\n",
    "display(interactive_plot)\n"
   ]
  },
  {
   "cell_type": "code",
   "execution_count": null,
   "id": "396da573-3b27-4f99-84df-d02c738ad2bf",
   "metadata": {},
   "outputs": [],
   "source": []
  }
 ],
 "metadata": {
  "kernelspec": {
   "display_name": "Python 3 (ipykernel)",
   "language": "python",
   "name": "python3"
  },
  "language_info": {
   "codemirror_mode": {
    "name": "ipython",
    "version": 3
   },
   "file_extension": ".py",
   "mimetype": "text/x-python",
   "name": "python",
   "nbconvert_exporter": "python",
   "pygments_lexer": "ipython3",
   "version": "3.9.13"
  }
 },
 "nbformat": 4,
 "nbformat_minor": 5
}
